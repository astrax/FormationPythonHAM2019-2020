{
 "cells": [
  {
   "cell_type": "markdown",
   "metadata": {},
   "source": [
    "<!-- dom:TITLE: L'intégration numérique -->\n",
    "# L'intégration numérique\n",
    "<!-- dom:AUTHOR: Ahmed Ammar Email:ahmed.ammar@fst.utm.tn at Institut Préparatoire aux Études Scientifiques et Techniques, Université de Carthage. -->\n",
    "<!-- Author: -->  \n",
    "**Ahmed Ammar** (email: `ahmed.ammar@fst.utm.tn`), Institut Préparatoire aux Études Scientifiques et Techniques, Université de Carthage.\n",
    "\n",
    "Date: **Jan 4, 2020**\n",
    "\n",
    "Copyright 2020, Ahmed Ammar. Released under CC Attribution 4.0 license\n",
    "\n",
    "\n",
    "\n",
    "\n",
    "\n",
    "\n",
    "\n",
    "\n",
    "# Introduction\n",
    "L'intégration numérique est un chapitre important de l'analyse numérique et un outil indispensable en physique numérique. On intègre numériquement dans deux cas principaux:\n",
    "\n",
    "* on ne peut pas intégrer analytiquement,\n",
    "\n",
    "* l'intégrande est fourni non pas sous la forme d'une fonction mais de tableaux de mesures, cas d'ailleurs le plus fréquent dans la vraie vie.\n",
    "\n",
    "Les méthodes numériques d'intégration d'une fonction sont nombreuses et les techniques très diverses. Des très simples, comme la méthode des rectangles aux très complexes comme certaines variétés de la méthode de Monte-Carlo.\n",
    "\n",
    "# Idées de base de l'intégration numérique\n",
    "Nous considérons l'intégrale"
   ]
  },
  {
   "cell_type": "markdown",
   "metadata": {},
   "source": [
    "<!-- Equation labels as ordinary links -->\n",
    "<div id=\"eq:ExampleIntegral\"></div>\n",
    "\n",
    "$$\n",
    "\\begin{equation} \\label{eq:ExampleIntegral} \\tag{1}\n",
    "\\int_a^b f(x)dx\n",
    "\\end{equation}\n",
    "$$"
   ]
  },
  {
   "cell_type": "markdown",
   "metadata": {},
   "source": [
    "La plupart des méthodes numériques de calcul de cette intégrale divisent l'intégrale d'origine en une somme de plusieurs intégrales, chacune couvrant une partie plus petite de l'intervalle d'intégration d'origine $[a, b]$. Cette réécriture de l'intégrale est basée sur une sélection de points d'intégration $x_i$, $i = 0,1,…, n$ qui sont répartis sur l'intervalle $[a, b]$. Les points d'intégration peuvent ou non être répartis uniformément. Une distribution uniforme simplifie les expressions et est souvent suffisante, nous nous limiterons donc principalement à ce choix. Les points d'intégration sont ensuite calculés comme:"
   ]
  },
  {
   "cell_type": "markdown",
   "metadata": {},
   "source": [
    "<!-- Equation labels as ordinary links -->\n",
    "<div id=\"_auto1\"></div>\n",
    "\n",
    "$$\n",
    "\\begin{equation}\n",
    "x_i = a + ih,\\quad i = 0,1,\\ldots,n\n",
    "\\label{_auto1} \\tag{2}\n",
    "\\end{equation}\n",
    "$$"
   ]
  },
  {
   "cell_type": "markdown",
   "metadata": {},
   "source": [
    "où"
   ]
  },
  {
   "cell_type": "markdown",
   "metadata": {},
   "source": [
    "<!-- Equation labels as ordinary links -->\n",
    "<div id=\"_auto2\"></div>\n",
    "\n",
    "$$\n",
    "\\begin{equation}\n",
    "h = \\frac{b-a}{n}\n",
    "\\label{_auto2} \\tag{3}\n",
    "\\end{equation}\n",
    "$$"
   ]
  },
  {
   "cell_type": "markdown",
   "metadata": {},
   "source": [
    "Compte tenu des points d'intégration, l'intégrale d'origine est réécrite sous la forme d'une somme d'intégrales, chaque intégrale étant calculée sur le sous-intervalle entre deux points d'intégration consécutifs. L'intégrale dans ([1](#eq:ExampleIntegral)) est donc exprimée comme:"
   ]
  },
  {
   "cell_type": "markdown",
   "metadata": {},
   "source": [
    "<!-- Equation labels as ordinary links -->\n",
    "<div id=\"eq:SumIntegrals\"></div>\n",
    "\n",
    "$$\n",
    "\\begin{equation} \\label{eq:SumIntegrals} \\tag{4}\n",
    "\\int_a^b f(x)dx =\n",
    "\\int_{x_0}^{x_1} f(x)dx + \\int_{x_1}^{x_2} f(x)dx + \\ldots +\n",
    "\\int_{x_{n-1}}^{x_n} f(x)dx\n",
    "\\end{equation}\n",
    "$$"
   ]
  },
  {
   "cell_type": "markdown",
   "metadata": {},
   "source": [
    "Notez que $x_0 = a$ et $x_n = b$.\n",
    "\n",
    "En partant de ([4](#eq:SumIntegrals)), les différentes méthodes d'intégration différeront dans la façon dont elles approchent chaque intégrale du côté droit. L'idée fondamentale est que chaque terme est une intégrale sur un petit intervalle $[x_i, x_{i + 1}]$, et sur ce petit intervalle, il est logique d'approximer f par une forme simple, disons une constante, une ligne droite ou une parabole , que nous pouvons facilement intégrer à la main. Les détails deviendront clairs dans les exemples à venir.\n",
    "## Exemple de calcul\n",
    "Pour comprendre et comparer les méthodes d'intégration numérique, il est avantageux d'utiliser une intégrale spécifique pour les calculs et les illustrations graphiques. En particulier, nous voulons utiliser une intégrale que nous pouvons calculer à la main de sorte que la précision des méthodes d'approximation puisse être facilement évaluée. Notre intégrale spécifique est tirée de la physique de base. Supposons que vous accélérez votre voiture du repos et demandez-vous jusqu'où vous allez en $T$ secondes. La distance est donnée par l'intégrale $\\int_0^T v(t)dt$ , où $v (t)$ est la vitesse en fonction du temps. Une fonction de vitesse en augmentation rapide pourrait être:"
   ]
  },
  {
   "cell_type": "markdown",
   "metadata": {},
   "source": [
    "<!-- Equation labels as ordinary links -->\n",
    "<div id=\"_auto3\"></div>\n",
    "\n",
    "$$\n",
    "\\begin{equation}\n",
    "v\\left(t\\right) = 3t^{2}e^{t^3}\\thinspace\n",
    "\\label{_auto3} \\tag{5}\n",
    "\\end{equation}\n",
    "$$"
   ]
  },
  {
   "cell_type": "markdown",
   "metadata": {},
   "source": [
    "La distance après une seconde est"
   ]
  },
  {
   "cell_type": "markdown",
   "metadata": {},
   "source": [
    "<!-- Equation labels as ordinary links -->\n",
    "<div id=\"eq:SpeedIntegral\"></div>\n",
    "\n",
    "$$\n",
    "\\begin{equation} \\label{eq:SpeedIntegral} \\tag{6}\n",
    "\\int_0^1 v(t)dt\n",
    "\\end{equation}\n",
    "$$"
   ]
  },
  {
   "cell_type": "markdown",
   "metadata": {},
   "source": [
    "qui est l'intégrale que nous cherchons à calculer par des méthodes numériques. Heureusement, l'expression choisie de la vitesse a une forme qui permet de calculer facilement l'anti-dérivé comme"
   ]
  },
  {
   "cell_type": "markdown",
   "metadata": {},
   "source": [
    "<!-- Equation labels as ordinary links -->\n",
    "<div id=\"_auto4\"></div>\n",
    "\n",
    "$$\n",
    "\\begin{equation}\n",
    "V(t) = e^{t^3}-1\n",
    "\\label{_auto4} \\tag{7}\n",
    "\\end{equation}\n",
    "$$"
   ]
  },
  {
   "cell_type": "markdown",
   "metadata": {},
   "source": [
    "Nous pouvons donc calculer la valeur exacte de l'intégrale comme $V (1) −V (0) ≈1.718$ (arrondi à 3 décimales pour plus de commodité).\n",
    "# La règle trapézoïdale composite\n",
    "L'intégrale $\\int_a^b f(x)dx$ peut être interprété comme l'aire entre l'axe des x et le graphique $y = f (x)$ de fonction à intégrer. La [figure](#fig:integral_of_f) illustre cette zone de choix ([6](#eq:SpeedIntegral)). Le calcul de l'intégrale $\\int_0^1f(t)dt$ revient à calculer l'aire de la zone hachurée.\n",
    "<!-- dom:FIGURE:[imgs/integral_of_f.png, width=400 frac=0.7] L'intégrale de $v (t)$ interprétée comme l'aire sous le graphique de $v$. <div id=\"fig:integral_of_f\"></div> -->\n",
    "<!-- begin figure -->\n",
    "<div id=\"fig:integral_of_f\"></div>\n",
    "\n",
    "<p>L'intégrale de $v (t)$ interprétée comme l'aire sous le graphique de $v$.</p>\n",
    "<img src=\"imgs/integral_of_f.png\" width=400>\n",
    "\n",
    "<!-- end figure -->\n",
    "\n",
    "\n",
    "Si nous remplaçons le vrai graphique de la [figure](#fig:integral_of_f) par un ensemble de segments de ligne droite, nous pouvons voir la zone plutôt comme composée de trapèzes, dont les zones sont faciles à calculer. Ceci est illustré sur la [figure](#fig:viz_trapezoidal), où 4 segments de ligne droite donnent naissance à 4 trapèzes, couvrant les intervalles de temps $[0,0.2)$, $[0.2,0.6)$, $[0.6,0.8)$ et $[0.8,1.0]$. Notez que nous en avons profité pour démontrer les calculs avec des intervalles de temps de tailles différentes.\n",
    "<!-- dom:FIGURE:[imgs/viz_trapezoidal.png, width=400 frac=0.7] Calculer approximativement l'intégrale d'une fonction comme la somme des aires des trapèzes. <div id=\"fig:viz_trapezoidal\"></div> -->\n",
    "<!-- begin figure -->\n",
    "<div id=\"fig:viz_trapezoidal\"></div>\n",
    "\n",
    "<p>Calculer approximativement l'intégrale d'une fonction comme la somme des aires des trapèzes.</p>\n",
    "<img src=\"imgs/viz_trapezoidal.png\" width=400>\n",
    "\n",
    "<!-- end figure -->\n",
    "\n",
    "Les aires des 4 trapèzes représentés sur la [figure](#fig:viz_trapezoidal) constituent maintenant notre approximation de l'intégrale ([6](#eq:SpeedIntegral)):"
   ]
  },
  {
   "cell_type": "markdown",
   "metadata": {},
   "source": [
    "$$\n",
    "\\int_0^1 v(t)dt \\approx\n",
    "h_1 (\\frac{v(0)+v(0.2)}{2}) + h_2 (\\frac{v(0.2)+v(0.6)}{2}) \\nonumber\n",
    "$$"
   ]
  },
  {
   "cell_type": "markdown",
   "metadata": {},
   "source": [
    "<!-- Equation labels as ordinary links -->\n",
    "<div id=\"eq:trapezoids\"></div>\n",
    "\n",
    "$$\n",
    "\\begin{equation} \n",
    "+ h_3 (\\frac{v(0.6)+v(0.8)}{2}) + h_4 (\\frac{v(0.8)+v(1.0)}{2})\n",
    "\\label{eq:trapezoids} \\tag{8}\n",
    "\\end{equation}\n",
    "$$"
   ]
  },
  {
   "cell_type": "markdown",
   "metadata": {},
   "source": [
    "où"
   ]
  },
  {
   "cell_type": "markdown",
   "metadata": {},
   "source": [
    "<!-- Equation labels as ordinary links -->\n",
    "<div id=\"eq:h1\"></div>\n",
    "\n",
    "$$\n",
    "\\begin{equation}\n",
    "h_1 = (0.2 - 0.0) \\label{eq:h1} \\tag{9}\n",
    "\\end{equation}\n",
    "$$"
   ]
  },
  {
   "cell_type": "markdown",
   "metadata": {},
   "source": [
    "<!-- Equation labels as ordinary links -->\n",
    "<div id=\"eq:h2\"></div>\n",
    "\n",
    "$$\n",
    "\\begin{equation} \n",
    "h_2 = (0.6 - 0.2)  \\label{eq:h2} \\tag{10}\n",
    "\\end{equation}\n",
    "$$"
   ]
  },
  {
   "cell_type": "markdown",
   "metadata": {},
   "source": [
    "<!-- Equation labels as ordinary links -->\n",
    "<div id=\"eq:h3\"></div>\n",
    "\n",
    "$$\n",
    "\\begin{equation} \n",
    "h_3 = (0.8 - 0.6)  \\label{eq:h3} \\tag{11}\n",
    "\\end{equation}\n",
    "$$"
   ]
  },
  {
   "cell_type": "markdown",
   "metadata": {},
   "source": [
    "<!-- Equation labels as ordinary links -->\n",
    "<div id=\"eq:h4\"></div>\n",
    "\n",
    "$$\n",
    "\\begin{equation} \n",
    "h_4 = (1.0 - 0.8) \\label{eq:h4} \\tag{12}\n",
    "\\end{equation}\n",
    "$$"
   ]
  },
  {
   "cell_type": "markdown",
   "metadata": {},
   "source": [
    "Avec $v(t) = 3t^{2}e^{t^3}$, chaque terme dans ([8](#eq:trapezoids)) est facilement calculé et notre calcul approximatif donne"
   ]
  },
  {
   "cell_type": "markdown",
   "metadata": {},
   "source": [
    "<!-- Equation labels as ordinary links -->\n",
    "<div id=\"_auto5\"></div>\n",
    "\n",
    "$$\n",
    "\\begin{equation}\n",
    "\\int_0^1 v(t)dt \\approx 1.895\n",
    "\\label{_auto5} \\tag{13}\n",
    "\\end{equation}\n",
    "$$"
   ]
  },
  {
   "cell_type": "markdown",
   "metadata": {},
   "source": [
    "Par rapport à la vraie réponse de $1.718$, cela est d'environ $10 \\%$. Cependant, notez que nous avons utilisé seulement 4 trapèzes pour approximer la zone. Avec plus de trapèzes, l'approximation serait devenue meilleure, puisque les segments de droite du côté trapézoïdal supérieur suivraient alors le graphique de plus près. Faire un autre calcul avec plus de trapèzes n'est pas trop tentant pour un humain paresseux, mais c'est un travail parfait pour un ordinateur! Dérivons donc les expressions d'approximation de l'intégrale par un nombre arbitraire de trapèzes.\n",
    "## La formule générale\n",
    "Pour une fonction donnée $f (x)$, nous voulons approximer l'intégrale $\\int_a^bf(x)dx$ par $n$ trapézoïdes (de largeur égale). Nous commençons par (3.5) et approchons chaque intégrale du côté droit avec un seul trapèze. En détail,"
   ]
  },
  {
   "cell_type": "markdown",
   "metadata": {},
   "source": [
    "$$\n",
    "\\int_a^b f(x)\\,dx = \\int_{x_0}^{x_1} f(x) dx + \\int_{x_1}^{x_2} f(x) dx + \\ldots + \\int_{x_{n-1}}^{x_n} f(x) dx,     \\nonumber\n",
    "$$"
   ]
  },
  {
   "cell_type": "markdown",
   "metadata": {},
   "source": [
    "$$\n",
    "\\approx h \\frac{f(x_0) + f(x_1)}{2} +\n",
    "\t\t  h \\frac{f(x_1) + f(x_2)}{2} + \\ldots + \\nonumber\n",
    "$$"
   ]
  },
  {
   "cell_type": "markdown",
   "metadata": {},
   "source": [
    "<!-- Equation labels as ordinary links -->\n",
    "<div id=\"_auto6\"></div>\n",
    "\n",
    "$$\n",
    "\\begin{equation} \n",
    "\t\t  \\quad h \\frac{f(x_{n-1}) + f(x_n)}{2}\n",
    "\\label{_auto6} \\tag{14}\n",
    "\\end{equation}\n",
    "$$"
   ]
  },
  {
   "cell_type": "markdown",
   "metadata": {},
   "source": [
    "En simplifiant le côté droit de (3.15), nous obtenons"
   ]
  },
  {
   "cell_type": "markdown",
   "metadata": {},
   "source": [
    "<!-- Equation labels as ordinary links -->\n",
    "<div id=\"_auto7\"></div>\n",
    "\n",
    "$$\n",
    "\\begin{equation}\n",
    "\\int_a^b f(x)\\,dx \\approx \\\\\n",
    "\\frac{h}{2}\\left[f(x_0) + 2 f(x_1) + 2 f(x_2) + \\ldots + 2 f(x_{n-1}) + f(x_n)\\right]\n",
    "\\label{_auto7} \\tag{15}\n",
    "\\end{equation}\n",
    "$$"
   ]
  },
  {
   "cell_type": "markdown",
   "metadata": {},
   "source": [
    "qui est écrit de façon plus compacte comme"
   ]
  },
  {
   "cell_type": "markdown",
   "metadata": {},
   "source": [
    "<!-- Equation labels as ordinary links -->\n",
    "<div id=\"eq:GenralIntegral\"></div>\n",
    "\n",
    "$$\n",
    "\\begin{equation} \\label{eq:GenralIntegral} \\tag{16}\n",
    "\\int_a^b f(x)\\,dx \\approx h \\left[\\frac{1}{2}f(x_0) + \\sum_{i=1}^{n-1}f(x_i) + \\frac{1}{2}f(x_n) \\right]\n",
    "\\end{equation}\n",
    "$$"
   ]
  },
  {
   "cell_type": "markdown",
   "metadata": {},
   "source": [
    "**Règles d'intégration composites.**\n",
    "\n",
    "Le mot composite est souvent utilisé lorsqu'une méthode d'intégration numérique est appliquée avec plus d'un sous-intervalle.\n",
    "à vrai dire alors, écrire, par exemple, \"la méthode trapézoïdale\", devrait impliquer l'utilisation d'un seul trapèze, tandis que \"la méthode trapézoïdale composite\" est le nom le plus correct lorsque plusieurs trapèzes sont utilisés. Cependant, cette convention de dénomination n'est pas toujours suivie, donc dire que \"la méthode trapézoïdale\" peut pointer vers un seul trapèze ainsi que la règle composite avec de nombreux trapèzes.\n",
    "\n",
    "\n",
    "## Implémentation\n",
    "### Implémentation spécifique ou générale?\n",
    "\n",
    "Supposons que notre objectif principal était de calculer l'intégrale spécifique $\\int_0^1 v(t)dt$ avec $v(t)=3t^2e^{t^3}$. D'abord, nous avons joué avec un simple calcul de main pour voir de quoi il s'agissait, avant de développer (comme c'est souvent le cas en mathématiques) une formule générale ([16](#eq:GenralIntegral)) pour l'intégrale générale ou «abstraite» $\\int_a^bf(x)dx$. Pour résoudre notre problème spécifique $\\int_0^1 v(t)dt$, nous devons ensuite appliquer la formule générale ([16](#eq:GenralIntegral)) aux données données (fonction et limites intégrales) dans notre problème. Bien que simples en principe, les étapes pratiques sont déroutantes pour beaucoup car la notation dans le problème abstrait de ([16](#eq:GenralIntegral)) diffère de la notation dans notre problème spécial. Clairement, les $f$, $x$ et $h$ dans ([16](#eq:GenralIntegral)) correspondent à $v$, $t$ et peut-être $\\Delta t$ pour la largeur trapézoïdale dans notre problème spécial.\n",
    "**Le dilemme du programmeur.**\n",
    "\n",
    "1. Faut-il écrire un programme spécial pour l'intégrale spéciale, en utilisant les idées de la règle générale ([16](#eq:GenralIntegral)), mais en remplaçant $f$ par $v$, $x$ par $t$ et $h$ par $\\Delta t$?\n",
    "\n",
    "2. Faut-il implémenter la méthode générale ([16](#eq:GenralIntegral)) telle qu'elle se présente dans une fonction générale `trapezoid(f, a, b, n)` et résoudre le problème spécifique en question par un appel spécialisé à cette fonction?\n",
    "\n",
    "**L'alternative 2 est toujours le meilleur choix!**\n",
    "\n",
    "\n",
    "\n",
    "La première alternative dans l'encadré ci-dessus semble moins abstraite et donc plus attrayante pour beaucoup. Néanmoins, comme nous l'espérons, cela sera évident à partir des exemples, la deuxième alternative est en fait la plus simple et la plus fiable d'un point de vue mathématique et de programmation. Ces auteurs affirmeront que la deuxième alternative est l'essence même du pouvoir des mathématiques, tandis que la première alternative est la source de beaucoup de confusion sur les mathématiques!\n",
    "### Implémentation avec fonctions\n",
    "\n",
    "Pour l'intégrale $\\int_a^bf(x)dx$ calculée par la formule ([16](#eq:GenralIntegral)), nous voulons que le trapèze de la fonction Python correspondante prenne tout $f$, $a$, $b$ et $n$ en entrée et renvoie l'approximation à l'intégrale.\n",
    "\n",
    "Nous écrivons une fonction Python `trapezoidal` dans un fichier \"trapezoidal.py\":\"\" aussi proche que possible de la formule ([16](#eq:GenralIntegral)), en nous assurant que les noms de variables correspondent à la notation mathématique:"
   ]
  },
  {
   "cell_type": "code",
   "execution_count": 1,
   "metadata": {
    "collapsed": false
   },
   "outputs": [],
   "source": [
    "def trapezoidal(f, a, b, n):\n",
    "    h = float(b-a)/n\n",
    "    result = 0.5*f(a) + 0.5*f(b)\n",
    "    for i in range(1, n):\n",
    "        result += f(a + i*h)\n",
    "    result *= h\n",
    "    return result"
   ]
  },
  {
   "cell_type": "markdown",
   "metadata": {},
   "source": [
    "### Résoudre notre problème spécifique en une session\n",
    "\n",
    "Le simple fait d'avoir la fonction `trapezoidal` comme seul contenu d'un fichier trapezoidal.py fait automatiquement de ce fichier un module que nous pouvons importer et tester dans une session interactive:"
   ]
  },
  {
   "cell_type": "code",
   "execution_count": 2,
   "metadata": {
    "collapsed": false
   },
   "outputs": [],
   "source": [
    "from trapezoidal import trapezoidal\n",
    "from math import exp\n",
    "v = lambda t: 3*(t**2)*exp(t**3)\n",
    "n = 4\n",
    "numerical = trapezoidal(v, 0, 1, n)\n",
    "numerical"
   ]
  },
  {
   "cell_type": "markdown",
   "metadata": {},
   "source": [
    "Calculons l'expression exacte et l'erreur dans l'approximation:"
   ]
  },
  {
   "cell_type": "code",
   "execution_count": 3,
   "metadata": {
    "collapsed": false
   },
   "outputs": [],
   "source": [
    "V = lambda t: exp(t**3)\n",
    "exact = V(1) - V(0)\n",
    "exact - numerical"
   ]
  },
  {
   "cell_type": "markdown",
   "metadata": {},
   "source": [
    "Cette erreur est-elle convaincante? On peut essayer un $n$ plus grand:"
   ]
  },
  {
   "cell_type": "code",
   "execution_count": 4,
   "metadata": {
    "collapsed": false
   },
   "outputs": [],
   "source": [
    "numerical = trapezoidal(v, 0, 1, n=400)\n",
    "exact - numerical"
   ]
  },
  {
   "cell_type": "markdown",
   "metadata": {},
   "source": [
    "Heureusement, beaucoup plus de trapèzes donnent une erreur beaucoup plus petite.\n",
    "### Résoudre notre problème spécifique dans un programme\n",
    "\n",
    "Au lieu de calculer notre problème spécial dans une session interactive, nous pouvons le faire dans un programme. Comme toujours, un morceau de code faisant une chose particulière est mieux isolé en tant que fonction même si nous ne voyons aucune raison future d'appeler la fonction plusieurs fois et même si nous n'avons pas besoin d'arguments pour paramétrer ce qui se passe à l'intérieur de la fonction. Dans le cas présent, nous mettons simplement les instructions que nous aurions autrement mises dans un programme principal, à l'intérieur d'une fonction:"
   ]
  },
  {
   "cell_type": "code",
   "execution_count": 5,
   "metadata": {
    "collapsed": false
   },
   "outputs": [],
   "source": [
    "def application():\n",
    "    from math import exp\n",
    "    v = lambda t: 3*(t**2)*exp(t**3)\n",
    "    n = input('n: ')\n",
    "    numerical = trapezoidal(v, 0, 1, n)\n",
    "\n",
    "    # Compare with exact result\n",
    "    V = lambda t: exp(t**3)\n",
    "    exact = V(1) - V(0)\n",
    "    error = exact - numerical\n",
    "    print('n=%d: %.16f, error: %g' % (n, numerical, error))"
   ]
  },
  {
   "cell_type": "markdown",
   "metadata": {},
   "source": [
    "Maintenant, nous calculons notre problème spécial en appelant `application()` comme la seule instruction du programme principal. Les fonctions `trapezoidal` et `application` résident toutes deux dans le fichier `trapezoidal.py`, qui peut être exécuté en tant que"
   ]
  },
  {
   "cell_type": "markdown",
   "metadata": {},
   "source": [
    "### Faire un module\n",
    "\n",
    "Lorsque nous avons les différentes parties de notre programme comme une collection de fonctions, il est très simple de créer un *module* qui peut être importé dans d'autres programmes. Ce fait, avoir notre code comme module, signifie que la fonction `trapezoidal` peut facilement être réutilisée par d'autres programmes pour résoudre d'autres problèmes. Les exigences d'un module sont simples: mettez tout à l'intérieur des fonctions et laissez les appels de fonction dans le programme principal être dans le soi-disant *bloc de test*:"
   ]
  },
  {
   "cell_type": "code",
   "execution_count": 6,
   "metadata": {
    "collapsed": false
   },
   "outputs": [],
   "source": [
    "if __name__ == '__main__':\n",
    "    application()"
   ]
  },
  {
   "cell_type": "markdown",
   "metadata": {},
   "source": [
    "Le test `if` est vrai si le fichier de module, `trapezoidal.py`, est exécuté en tant que programme et faux si le module est importé dans un autre programme. Par conséquent, lorsque nous effectuons une importation: `from trapezoidal import trapezoidal` dans un fichier, le test échoue et `application()` n'est pas appelée, c'est-à-dire que notre problème spécial n'est pas résolu et n'imprime rien à l'écran. D'un autre côté, si nous exécutons `trapezoidal.py` dans la fenêtre du terminal, la condition de test est positive, `application()` est appelée et nous obtenons une sortie dans la fenêtre:"
   ]
  },
  {
   "cell_type": "code",
   "execution_count": 7,
   "metadata": {
    "collapsed": false
   },
   "outputs": [],
   "source": [
    "Terminal> python trapezoidal.py\n",
    "n: 400\n",
    "n=400: 1.7183030649495579, error: -2.12365e-05"
   ]
  },
  {
   "cell_type": "markdown",
   "metadata": {},
   "source": [
    "Lorsque vous regardez maintenant les deux solutions, le programme plat spécial et le programme basé sur les fonctions avec la fonction polyvalente `trapezoidal`, vous vous rendez compte que *la mise en œuvre d'un algorithme mathématique général dans une fonction générale* nécessite une réflexion un peu plus abstraite, mais le code résultant peut être utilisé encore et encore. Essentiellement, si vous appliquez le style plat spécial, vous devez retester l'implémentation de l'algorithme après chaque changement de programme.\n",
    "# La méthode du point milieu composite\n",
    "## L'idée\n",
    "Plutôt que d'approximer l'aire sous une courbe par des trapèzes, nous pouvons utiliser des rectangles simples. Il peut sembler moins précis d'utiliser des lignes horizontales et non des lignes obliques suivant la fonction à intégrer, mais une méthode d'intégration basée sur des rectangles (la méthode du point milieu) est en fait légèrement plus précise que celle basée sur des trapèzes!\n",
    "\n",
    "Dans la méthode du milieu, nous construisons un rectangle pour chaque sous-intervalle où la hauteur est égale à $f$ au milieu du sous-intervalle. Faisons-le pour quatre rectangles, en utilisant les mêmes sous-intervalles que nous avions pour les calculs manuels avec la méthode trapézoïdale: $[0,0.2)$, $[0.2,0.6)$, $[0.6,0.8)$ et $[0.8,1.0]$. On a"
   ]
  },
  {
   "cell_type": "markdown",
   "metadata": {},
   "source": [
    "$$\n",
    "\\int_0^1 f(t)dt \\approx\n",
    "   h_1 f\\left(\\frac{0 + 0.2}{2}\\right) +\n",
    "   h_2 f\\left(\\frac{0.2 + 0.6}{2}\\right) \\nonumber\n",
    "$$"
   ]
  },
  {
   "cell_type": "markdown",
   "metadata": {},
   "source": [
    "<!-- Equation labels as ordinary links -->\n",
    "<div id=\"_auto8\"></div>\n",
    "\n",
    "$$\n",
    "\\begin{equation} \n",
    "+ h_3 f\\left(\\frac{0.6 + 0.8}{2}\\right) +\n",
    "   h_4 f\\left(\\frac{0.8 + 1.0}{2}\\right)\n",
    "\\label{_auto8} \\tag{17}\n",
    "\\end{equation}\n",
    "$$"
   ]
  },
  {
   "cell_type": "markdown",
   "metadata": {},
   "source": [
    "où $h_1$, $h_2$, $h_3$ et $h_4$ sont les largeurs des sous-intervalles, utilisées précédemment avec la méthode du trapèze et définies dans ([9](#eq:h1))-([12](#eq:h4)).\n",
    "\n",
    "<!-- dom:FIGURE:[imgs/viz_midpoint.png, width=400 frac=0.7] Calcul approximatif de l'intégrale d'une fonction comme la somme des aires des rectangles. <div id=\"fig:viz_midpoint\"></div> -->\n",
    "<!-- begin figure -->\n",
    "<div id=\"fig:viz_midpoint\"></div>\n",
    "\n",
    "<p>Calcul approximatif de l'intégrale d'une fonction comme la somme des aires des rectangles.</p>\n",
    "<img src=\"imgs/viz_midpoint.png\" width=400>\n",
    "\n",
    "<!-- end figure -->\n",
    "\n",
    "\n",
    "Avec $f(t) = 3t^{2}e^{t^3}$, l'approximation devient $1.632$. Comparé à la vraie réponse ($1.718$), c'est environ $5 \\%$ trop petit, mais c'est mieux que ce que nous avons obtenu avec la méthode trapézoïdale ($10 \\%$) avec les mêmes sous-intervalles. Plus de rectangles donnent une meilleure approximation.\n",
    "\n",
    "## La formule générale\n",
    "Dérivons une formule pour la méthode du milieu basée sur $n$ rectangles d'égale largeur:"
   ]
  },
  {
   "cell_type": "markdown",
   "metadata": {},
   "source": [
    "$$\n",
    "\\int_a^b f(x)\\,dx = \\int_{x_0}^{x_1} f(x)dx + \\int_{x_1}^{x_2} f(x)dx +\n",
    "                     \\ldots + \\int_{x_{n-1}}^{x_n} f(x)dx,     \\nonumber\n",
    "$$"
   ]
  },
  {
   "cell_type": "markdown",
   "metadata": {},
   "source": [
    "<!-- Equation labels as ordinary links -->\n",
    "<div id=\"_auto9\"></div>\n",
    "\n",
    "$$\n",
    "\\begin{equation} \n",
    "                  \\approx h f\\left(\\frac{x_0 + x_1}{2}\\right) +\n",
    "                   h f\\left(\\frac{x_1 + x_2}{2}\\right) + \\ldots +\n",
    "                   h f\\left(\\frac{x_{n-1} + x_n}{2}\\right) \n",
    "\\label{_auto9} \\tag{18}\n",
    "\\end{equation}\n",
    "$$"
   ]
  },
  {
   "cell_type": "markdown",
   "metadata": {},
   "source": [
    "<!-- Equation labels as ordinary links -->\n",
    "<div id=\"_auto10\"></div>\n",
    "\n",
    "$$\n",
    "\\begin{equation} \n",
    "                  \\approx h \\left(f\\left(\\frac{x_0 + x_1}{2}\\right) +\n",
    "                  f\\left(\\frac{x_1 + x_2}{2}\\right) + \\ldots +\n",
    "                  f\\left(\\frac{x_{n-1} + x_n}{2}\\right)\\right)\n",
    "\\label{_auto10} \\tag{19}\n",
    "\\end{equation}\n",
    "$$"
   ]
  },
  {
   "cell_type": "markdown",
   "metadata": {},
   "source": [
    "Cette somme peut être écrite de façon plus compacte comme"
   ]
  },
  {
   "cell_type": "markdown",
   "metadata": {},
   "source": [
    "<!-- Equation labels as ordinary links -->\n",
    "<div id=\"eq:GeneralMidpoint\"></div>\n",
    "\n",
    "$$\n",
    "\\begin{equation} \\label{eq:GeneralMidpoint} \\tag{20}\n",
    "\\int_a^b f(x) dx \\approx h \\sum_{i=0}^{n-1}f(x_i)\n",
    "\\end{equation}\n",
    "$$"
   ]
  },
  {
   "cell_type": "markdown",
   "metadata": {},
   "source": [
    "où $x_i = \\left(a + \\frac{h}{2}\\right) + ih$.\n",
    "\n",
    "## Implémentation\n",
    "<div id=\"sec:implementation\"></div>\n",
    "Nous suivons les conseils et les enseignements tirés de la mise en œuvre de la méthode trapézoïdale et réalisons une fonction `midpoint(f, a, b, n)` (dans un fichier `midpoint.py`) pour mettre en œuvre la formule générale ([20](#eq:GeneralMidpoint)):"
   ]
  },
  {
   "cell_type": "code",
   "execution_count": 8,
   "metadata": {
    "collapsed": false
   },
   "outputs": [],
   "source": [
    "def midpoint(f, a, b, n):\n",
    "    h = float(b-a)/n\n",
    "    result = 0\n",
    "    for i in range(n):\n",
    "        result += f((a + h/2.0) + i*h)\n",
    "    result *= h\n",
    "    return result"
   ]
  },
  {
   "cell_type": "markdown",
   "metadata": {},
   "source": [
    "Nous pouvons tester la fonction comme nous l'avons expliqué pour la méthode du trapèze similaire. L'erreur dans notre problème particulier $\\int_0^1 3t^2e^{t^3}dt$ avec quatre intervalles est maintenant d'environ $0.1$ contrairement à $0.2$ pour la règle du trapèze. Les différences sont rarement d'une importance pratique, et sur un ordinateur portable, nous pouvons facilement utiliser $n = 10^6$ et obtenir la réponse avec une erreur d'environ $10^{-12}$ en quelques secondes.\n",
    "## Comparaison des méthodes du trapèze et du point milieu\n",
    "L'exemple suivant montre la facilité avec laquelle nous pouvons combiner les fonctions `trapezoidal` et `midpoint` pour comparer les deux méthodes dans le fichier `compare_integration_methods.py`:"
   ]
  },
  {
   "cell_type": "code",
   "execution_count": 9,
   "metadata": {
    "collapsed": false
   },
   "outputs": [],
   "source": [
    "from trapezoidal import trapezoidal\n",
    "from midpoint import midpoint\n",
    "from math import exp\n",
    "\n",
    "g = lambda y: exp(-y**2)\n",
    "a = 0\n",
    "b = 2\n",
    "print('    n        midpoint          trapezoidal')\n",
    "for i in range(1, 21):\n",
    "    n = 2**i\n",
    "    m = midpoint(g, a, b, n)\n",
    "    t = trapezoidal(g, a, b, n)\n",
    "    print('%7d %.16f %.16f' % (n, m, t))"
   ]
  },
  {
   "cell_type": "markdown",
   "metadata": {},
   "source": [
    "Notez les efforts mis en forme agréable - la sortie devient"
   ]
  },
  {
   "cell_type": "markdown",
   "metadata": {},
   "source": [
    "        n        midpoint          trapezoidal\n",
    "              2 0.8842000076332692 0.8770372606158094\n",
    "              4 0.8827889485397279 0.8806186341245393\n",
    "              8 0.8822686991994210 0.8817037913321336\n",
    "             16 0.8821288703366458 0.8819862452657772\n",
    "             32 0.8820933014203766 0.8820575578012112\n",
    "             64 0.8820843709743319 0.8820754296107942\n",
    "            128 0.8820821359746071 0.8820799002925637\n",
    "            256 0.8820815770754198 0.8820810181335849\n",
    "            512 0.8820814373412922 0.8820812976045025\n",
    "           1024 0.8820814024071774 0.8820813674728968\n",
    "           2048 0.8820813936736116 0.8820813849400392\n",
    "           4096 0.8820813914902204 0.8820813893068272\n",
    "           8192 0.8820813909443684 0.8820813903985197\n",
    "          16384 0.8820813908079066 0.8820813906714446\n",
    "          32768 0.8820813907737911 0.8820813907396778\n",
    "         131072 0.8820813907631487 0.8820813907610036\n",
    "         262144 0.8820813907625702 0.8820813907620528\n",
    "         524288 0.8820813907624605 0.8820813907623183\n",
    "        1048576 0.8820813907624268 0.8820813907623890\n"
   ]
  },
  {
   "cell_type": "markdown",
   "metadata": {},
   "source": [
    "Une inspection visuelle des chiffres montre à quelle vitesse les chiffres se stabilisent dans les deux méthodes. Il semble que 13 chiffres se soient stabilisés dans les deux dernières lignes.\n",
    "\n",
    "**Remarque.**\n",
    "\n",
    "Les méthodes trapézoïdale et médiane ne sont que deux exemples dans une jungle de règles d'intégration numérique. D'autres méthodes célèbres sont la règle de Simpson et la quadrature de Gauss. Ils fonctionnent tous de la même manière:\n",
    "$$\\int_a^b f(x)dx \\approx \\sum_{i=0}^{n-1} w_if(x_i)$$\n",
    "Autrement dit, l'intégrale est approximée par une somme d'évaluations de fonctions, où chaque évaluation $f (x_i)$ reçoit un poids $w_i$. Les différentes méthodes diffèrent par la façon dont elles construisent les points d'évaluation $x_i$ et les poids $w_i$. Nous avons utilisé des points $x_i$ également espacés, mais une précision plus élevée peut être obtenue en optimisant l'emplacement de $x_i$.\n",
    "\n",
    "\n",
    "# Intégrales doubles et triples\n",
    "## La règle du point milieu pour une double intégrale\n",
    "Étant donné une intégrale double sur un domaine rectangulaire $[a, b] \\times [c, d]$,\n",
    "\n",
    "$$\\int_a^b \\int_c^d f(x,y) dydx$$\n",
    "\n",
    "comment approcher cette intégrale par des méthodes numériques?\n",
    "### Dérivation via des intégrales unidimensionnelles\n",
    "\n",
    "Puisque nous savons comment traiter les intégrales dans une variable, une approche fructueuse consiste à considérer l'intégrale double comme deux intégrales, chacune dans une variable, qui peut être approximée numériquement par les formules unidimensionnelles précédentes. À cette fin, nous introduisons une fonction d'aide $g (x)$ et écrivons\n",
    "$$\\int_a^b \\int_c^d f(x,y) dydx = \\int_a^b g(x)dx,\\quad\n",
    "g(x) = \\int_c^d f(x,y) dy$$\n",
    "Chacune des intégrales\n",
    "$$ \\int_a^b g(x)dx,\\quad\n",
    "g(x) = \\int_c^d f(x,y) dy$$\n",
    "peut être discrétisé par n'importe quelle règle d'intégration numérique pour une intégrale dans une variable. Utilisons la méthode du point médian (22) et commençons par $g(x)=\\int_c^d f(x,y)dy$. Nous introduisons $n_y$ intervalles sur $[c, d]$ de longueur $h_y$. La règle médiane pour cette intégrale devient alors\n",
    "$$g(x) = \\int_c^d f(x,y) dy \\approx  h_y \\sum_{j=0}^{n_y-1} f(x,y_j),\n",
    "\\quad y_j = c + \\frac{1}{2}{h_y} + jh_y $$\n",
    "\n",
    "L'expression semble quelque peu différente de (22), mais c'est à cause de la notation: puisque nous nous intégrons dans la direction $y$ et que nous devrons travailler avec $x$ et $y$ comme coordonnées, nous devons utiliser $n_y$ pour $n$, $h_y$ pour $h$ et le compteur $i$ est plus naturellement appelé $j$ lors de l'intégration dans $y$. Les intégrales dans la direction $x$ utiliseront $h_x$ et $n_x$ pour $h$ et $n$, et $i$ comme compteur.\n",
    "\n",
    "L'intégrale double est $\\int_a^b g(x)dx$, qui peut être approximée par la méthode du point médian:\n",
    "$$\\int_a^b g(x)dx \\approx h_x \\sum_{i=0}^{n_x-1} g(x_i),\\quad x_i=a + \\frac{1}{2}{h_x} + ih_x$$\n",
    "\n",
    "En rassemblant les formules, nous arrivons à la méthode du point milieu composite pour une double intégrale:"
   ]
  },
  {
   "cell_type": "markdown",
   "metadata": {},
   "source": [
    "$$\n",
    "\\int_a^b \\int_c^d f(x,y) dydx \\approx\n",
    "h_x \\sum_{i=0}^{n_x-1} h_y \\sum_{j=0}^{n_y-1} f(x_i,y_j)\\nonumber\n",
    "$$"
   ]
  },
  {
   "cell_type": "markdown",
   "metadata": {},
   "source": [
    "<!-- Equation labels as ordinary links -->\n",
    "<div id=\"eq:MidpointDouble\"></div>\n",
    "\n",
    "$$\n",
    "\\begin{equation} \n",
    "=\n",
    "h_xh_y \\sum_{i=0}^{n_x-1} \\sum_{j=0}^{n_y-1} f(a + \\frac{h_x}{2} + ih_x, c + \\frac{h_y}{2} + jh_y) \\label{eq:MidpointDouble} \\tag{21}\n",
    "\\end{equation}\n",
    "$$"
   ]
  },
  {
   "cell_type": "markdown",
   "metadata": {},
   "source": [
    "La formule ([21](#eq:MidpointDouble)) peut également être dérivée directement dans le cas bidimensionnel en appliquant l'idée de la méthode du point milieu. Nous divisons le rectangle $[a, b] \\times [c, d]$ en $nx \\times ny$ cellules de taille égale. L'idée de la méthode du point milieu est d'approximer $f$ par une constante sur chaque cellule et d'évaluer la constante au point médian. La cellule $(i, j)$ occupe la zone\n",
    "\n",
    "$$[a+ih_x,a+(i+1)h_x]\\times [c+jh_y, c+ (j+1)h_y],$$\n",
    "et le milieu est $(x_i, y_j)$ avec\n",
    "$$x_i=a + ih_x + \\frac{1}{2}{h_x} ,\\quad y_j = c + jh_y + \\frac{1}{2}{h_y}$$\n",
    "L'intégrale sur la cellule est donc $h_xh_y f(x_i,y_j)$, et l'intégrale double totale est la somme sur toutes les cellules, qui n'est rien d'autre que la formule ([21](#eq:MidpointDouble)).\n",
    "### Programmation d'une double somme\n",
    "\n",
    "La formule ([21](#eq:MidpointDouble)) implique une double somme, qui est normalement implémentée sous la forme d'une boucle double. Une fonction Python implémentant ([21](#eq:MidpointDouble)) peut ressembler à"
   ]
  },
  {
   "cell_type": "code",
   "execution_count": 10,
   "metadata": {
    "collapsed": false
   },
   "outputs": [],
   "source": [
    "def midpoint_double1(f, a, b, c, d, nx, ny):\n",
    "    hx = (b - a)/float(nx)\n",
    "    hy = (d - c)/float(ny)\n",
    "    I = 0\n",
    "    for i in range(nx):\n",
    "        for j in range(ny):\n",
    "            xi = a + hx/2 + i*hx\n",
    "            yj = c + hy/2 + j*hy\n",
    "            I += hx*hy*f(xi, yj)\n",
    "    return I"
   ]
  },
  {
   "cell_type": "markdown",
   "metadata": {},
   "source": [
    "Si cette fonction est stockée dans un fichier de module `midpoint_double.py`, nous pouvons calculer une intégrale, par exemple, $\\int_2^3\\int_0^2 (2x + y)dxdy=9$ dans un shell interactif et démontrer que la fonction calcule le bon nombre:"
   ]
  },
  {
   "cell_type": "code",
   "execution_count": 11,
   "metadata": {
    "collapsed": false
   },
   "outputs": [],
   "source": [
    "from midpoint_double import midpoint_double1\n",
    "def f(x, y):\n",
    "    return 2*x + y"
   ]
  },
  {
   "cell_type": "code",
   "execution_count": 12,
   "metadata": {
    "collapsed": false
   },
   "outputs": [],
   "source": [
    "midpoint_double1(f, 0, 2, 2, 3, 5, 5)"
   ]
  },
  {
   "cell_type": "markdown",
   "metadata": {},
   "source": [
    "### Réutilisation du code pour les intégrales unidimensionnelles\n",
    "\n",
    "Il est très naturel d'écrire une méthode de point médian bidimensionnelle comme nous l'avons fait dans la fonction `midpoint_double1` lorsque nous avons la formule ([21](#eq:MidpointDouble)). Cependant, nous pourrions également demander, tout comme nous l'avons fait en mathématiques, pouvons-nous réutiliser une implémentation bien testée pour les intégrales unidimensionnelles pour calculer les doubles intégrales? Autrement dit, pouvons-nous utiliser la fonction `midpoint`."
   ]
  },
  {
   "cell_type": "code",
   "execution_count": 13,
   "metadata": {
    "collapsed": false
   },
   "outputs": [],
   "source": [
    "def midpoint(f, a, b, n):\n",
    "    h = float(b-a)/n\n",
    "    result = 0\n",
    "    for i in range(n):\n",
    "        result += f((a + h/2.0) + i*h)\n",
    "    result *= h\n",
    "    return result"
   ]
  },
  {
   "cell_type": "markdown",
   "metadata": {},
   "source": [
    "de la the section [Implémentation](#sec:implementation) \"deux fois\"? La réponse est oui, si nous pensons comme nous l'avons fait dans les mathématiques: calculer l'intégrale double comme règle du point milieu pour intégrer $g (x)$ et définir $g (x_i)$ en termes d'une règle médiane sur $f$ dans la coordonnée $y$."
   ]
  },
  {
   "cell_type": "code",
   "execution_count": 14,
   "metadata": {
    "collapsed": false
   },
   "outputs": [],
   "source": [
    "def midpoint_double2(f, a, b, c, d, nx, ny):\n",
    "    def g(x):\n",
    "        return midpoint(lambda y: f(x, y), c, d, ny)\n",
    "\n",
    "    return midpoint(g, a, b, nx)"
   ]
  },
  {
   "cell_type": "markdown",
   "metadata": {},
   "source": [
    "L'avantage important de cette implémentation est que nous réutilisons une fonction bien testée pour la règle du point milieu unidimensionnelle standard et que nous appliquons la règle unidimensionnelle exactement comme dans les mathématiques.\n",
    "### Vérification via les fonctions de test"
   ]
  }
 ],
 "metadata": {},
 "nbformat": 4,
 "nbformat_minor": 2
}
