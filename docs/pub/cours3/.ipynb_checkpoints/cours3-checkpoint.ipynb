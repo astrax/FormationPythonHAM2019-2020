{
 "cells": [
  {
   "cell_type": "markdown",
   "metadata": {},
   "source": [
    "<!-- dom:TITLE: Bibliothèques numpy et matplotlib -->\n",
    "# Bibliothèques numpy et matplotlib\n",
    "<!-- dom:AUTHOR: Ahmed Ammar Email:ahmed.ammar@fst.utm.tn at Université de Tunis El Manar. -->\n",
    "<!-- Author: -->  \n",
    "**Ahmed Ammar** (email: `ahmed.ammar@fst.utm.tn`), Université de Tunis El Manar.\n",
    "\n",
    "Date: **Nov 18, 2019**\n",
    "\n",
    "Copyright 2019, Ahmed Ammar. Released under CC Attribution 4.0 license\n",
    "\n",
    "\n",
    "\n",
    "\n",
    "\n",
    "\n",
    "\n",
    "\n",
    "# Bibliothèque numérique: `numpy`\n",
    "\n",
    "La bibliothèque `numpy` (<http://www.numpy.org>) est utilisée dans presque tous les calculs numériques réalisés à l'aide de Python. C'est une bibliothèque qui fournit des structures de données de haute performance de type vectoriel, matriciel et de dimensions supérieures. Il est implémenté avec les syntaxes de C et Fortran, ainsi lorsque les calculs sont vectorisés les performances sont très bonnes.\n",
    "\n",
    "Pour utiliser `numpy`, vous devez importer le module:"
   ]
  },
  {
   "cell_type": "code",
   "execution_count": 2,
   "metadata": {},
   "outputs": [
    {
     "ename": "SyntaxError",
     "evalue": "invalid syntax (<ipython-input-2-df1be1fc36af>, line 1)",
     "output_type": "error",
     "traceback": [
      "\u001b[0;36m  File \u001b[0;32m\"<ipython-input-2-df1be1fc36af>\"\u001b[0;36m, line \u001b[0;32m1\u001b[0m\n\u001b[0;31m    from numpy import as np\u001b[0m\n\u001b[0m                       ^\u001b[0m\n\u001b[0;31mSyntaxError\u001b[0m\u001b[0;31m:\u001b[0m invalid syntax\n"
     ]
    }
   ],
   "source": [
    "import numpy as np"
   ]
  },
  {
   "cell_type": "markdown",
   "metadata": {},
   "source": [
    "Dans la bibliothèque `numpy`, la terminologie utilisée pour les vecteurs, les matrices et tout ensemble de données à grande dimension est **array**.\n",
    "\n",
    "## Tableaux et matrices\n",
    "\n",
    "Il existe plusieurs façons d'initialiser de nouveaux tableaux `numpy`, par exemple à partir de:\n",
    "\n",
    "* Des liste ou des tuples\n",
    "\n",
    "* Utilisant des fonctions dédiées à la génération de tableaux numpy, tels que `arange`, `linspace`, etc.\n",
    "\n",
    "* Lecture de données à partir de fichiers\n",
    "\n",
    "### Listes\n",
    "\n",
    "Par exemple, pour créer de nouveaux tableaux vectoriels et matriciels à partir de listes Python, nous pouvons utiliser la fonction `numpy.array`."
   ]
  },
  {
   "cell_type": "code",
   "execution_count": 2,
   "metadata": {},
   "outputs": [],
   "source": [
    "v = array([1,2,3,4]) # Un vecteur: l'argument de la fonction array() est une liste Python\n",
    "v"
   ]
  },
  {
   "cell_type": "code",
   "execution_count": 3,
   "metadata": {},
   "outputs": [],
   "source": [
    "In [9]: M = array([[1, 2], [3, 4]]) # Une matrice: l'argument de la fonction de tableau est une liste imbriquée de Python\n",
    "   ...: M\n",
    "Out[9]:\n",
    "array([[1, 2],\n",
    "       [3, 4]])"
   ]
  },
  {
   "cell_type": "markdown",
   "metadata": {},
   "source": [
    "Les variables `v` et `M` sont de type `ndarray` que fournit le module `numpy`."
   ]
  },
  {
   "cell_type": "code",
   "execution_count": 4,
   "metadata": {},
   "outputs": [],
   "source": [
    "type(v), type(M)"
   ]
  },
  {
   "cell_type": "markdown",
   "metadata": {},
   "source": [
    "La différence entre les tableaux `v` et `M` n'est que dans leur forme. Nous pouvons obtenir des informations sur la forme d'un tableau en utilisant la propriété `ndarray.shape`."
   ]
  },
  {
   "cell_type": "code",
   "execution_count": 5,
   "metadata": {},
   "outputs": [],
   "source": [
    "v.shape"
   ]
  },
  {
   "cell_type": "code",
   "execution_count": 6,
   "metadata": {},
   "outputs": [],
   "source": [
    "M.shape"
   ]
  },
  {
   "cell_type": "markdown",
   "metadata": {},
   "source": [
    "Le nombre d'éléments dans le tableau est disponible via la propriété `ndarray.size`:"
   ]
  },
  {
   "cell_type": "code",
   "execution_count": 7,
   "metadata": {},
   "outputs": [],
   "source": [
    "M.size"
   ]
  },
  {
   "cell_type": "markdown",
   "metadata": {},
   "source": [
    "De manière équivalente, nous pourrions utiliser la fonction `numpy.shape` et `numpy.size`"
   ]
  },
  {
   "cell_type": "code",
   "execution_count": 8,
   "metadata": {},
   "outputs": [],
   "source": [
    "shape(M)"
   ]
  },
  {
   "cell_type": "markdown",
   "metadata": {},
   "source": [
    "et"
   ]
  },
  {
   "cell_type": "markdown",
   "metadata": {},
   "source": [
    "Jusqu'à présent, le `numpy.ndarray` ressemble beaucoup à une liste Python (ou à une liste imbriquée).\n",
    "\n",
    "**Question.**\n",
    "\n",
    "Pourquoi ne pas utiliser simplement les listes Python pour les calculs au lieu de créer un nouveau type de tableau?\n",
    "\n",
    "\n",
    "\n",
    "**Notice.**\n",
    "\n",
    "Il existe plusieurs raisons pour ne pas utiliser que les listes:\n",
    "* Les listes de Python sont très générales. Ils peuvent contenir tout type d'objets. Une même liste peut contenir des éléments de différentes natures et changeables. Ils ne prennent pas en charge les fonctions mathématiques telles que les multiplications de matrice et de points, etc. L'implémentation de telles fonctions pour les listes Python ne serait pas très efficace en raison du typage dynamique.\n",
    "\n",
    "* Les tableaux Numpy sont **typés** et **homogènes**. Le type d'éléments est déterminé lorsque le tableau est créé.\n",
    "\n",
    "* Les tableaux Numpy sont efficaces pour la gestion de la mémoire.\n",
    "\n",
    "* En raison du typage statique, la mise en œuvre rapide de fonctions mathématiques telles que la multiplication et l'ajout de tableaux `numpy` peut être implémentée dans une langue compilée (C et Fortran sont utilisés).\n",
    "\n",
    "\n",
    "\n",
    "En utilisant la propriété `dtype` (type de données) d'un `ndarray`, on peut connaitre le type des éléments d'un tableau ou d'une matrice:"
   ]
  },
  {
   "cell_type": "code",
   "execution_count": 9,
   "metadata": {},
   "outputs": [],
   "source": [
    "M.dtype"
   ]
  },
  {
   "cell_type": "markdown",
   "metadata": {},
   "source": [
    "Si nous le désirons, nous pouvons définir explicitement le type de données du tableau lorsque nous le créons, ceci en utilisant le mot-clé `dtype` comme argument:"
   ]
  },
  {
   "cell_type": "code",
   "execution_count": 10,
   "metadata": {},
   "outputs": [],
   "source": [
    "M = array([[1, 2], [3, 4]], dtype=complex)"
   ]
  },
  {
   "cell_type": "markdown",
   "metadata": {},
   "source": [
    "**Notice.**\n",
    "\n",
    "Les types usuels qui peuvent être utilisés avec `dtype` sont: `int`, `float`, `complex`, `bool`, `object`, etc. Nous pouvons également définir explicitement la taille des bits des éléments, par exemple: `int64`, `int16`, `float128`, `complex128`.\n",
    "\n",
    "\n",
    "\n",
    "### Utilisation de fonctions génératrices de tableaux et de matrices\n",
    "\n",
    "Pour les tableaux de grandes tailles, il est inconcevable d'initialiser les données manuellement. Au lieu de cela, nous pouvons utiliser l'une des nombreuses fonctions dans `numpy` qui génère des tableaux ou des matrices de différentes formes et tailles. Certains parmi les plus utilisés sont:\n",
    "* `arange()`\n",
    "\n",
    "* `linspace()` et `logspace()`\n",
    "\n",
    "* `mgrid()`\n",
    "\n",
    "* `diag()`\n",
    "\n",
    "* `zeros()` et `ones()`\n",
    "\n",
    "* ...\n",
    "\n",
    "**Fonction `arange()` :**"
   ]
  },
  {
   "cell_type": "code",
   "execution_count": 11,
   "metadata": {},
   "outputs": [],
   "source": [
    "# Création d'un tableau à l'aide de la fonction arange()"
   ]
  },
  {
   "cell_type": "code",
   "execution_count": 12,
   "metadata": {},
   "outputs": [],
   "source": [
    "x = arange(-2, 2, 0.1)"
   ]
  },
  {
   "cell_type": "markdown",
   "metadata": {},
   "source": [
    "**Fonctions `linspace()` et `logspace()`:**"
   ]
  },
  {
   "cell_type": "code",
   "execution_count": 13,
   "metadata": {},
   "outputs": [],
   "source": [
    "# En utilisant linspace, les deux points finaux sont inclus"
   ]
  },
  {
   "cell_type": "code",
   "execution_count": 14,
   "metadata": {},
   "outputs": [],
   "source": [
    "logspace(0, 10, 10, base=e)"
   ]
  },
  {
   "cell_type": "markdown",
   "metadata": {},
   "source": [
    "**Fonctions `mgrid()` et `meshgrid()`:**"
   ]
  },
  {
   "cell_type": "code",
   "execution_count": 15,
   "metadata": {},
   "outputs": [],
   "source": [
    "x, y = mgrid[0:5, 0:5] # Similaire à meshgrid dans MATLAB"
   ]
  },
  {
   "cell_type": "code",
   "execution_count": 16,
   "metadata": {},
   "outputs": [],
   "source": [
    "y"
   ]
  },
  {
   "cell_type": "code",
   "execution_count": 17,
   "metadata": {},
   "outputs": [],
   "source": [
    "x, y = meshgrid(linspace(0,2,6),linspace(0,2,6))"
   ]
  },
  {
   "cell_type": "code",
   "execution_count": 18,
   "metadata": {},
   "outputs": [],
   "source": [
    "y"
   ]
  },
  {
   "cell_type": "markdown",
   "metadata": {},
   "source": [
    "**Fonction `diag()`:**"
   ]
  },
  {
   "cell_type": "code",
   "execution_count": 19,
   "metadata": {},
   "outputs": [],
   "source": [
    "# Une matrice diagonale"
   ]
  },
  {
   "cell_type": "code",
   "execution_count": 20,
   "metadata": {},
   "outputs": [],
   "source": [
    "# Diagonale avec décalage de la diagonale principale"
   ]
  },
  {
   "cell_type": "markdown",
   "metadata": {},
   "source": [
    "**Fonctions `zeros()` et `ones()`:**"
   ]
  },
  {
   "cell_type": "code",
   "execution_count": 21,
   "metadata": {},
   "outputs": [],
   "source": [
    "zeros((3,3))"
   ]
  },
  {
   "cell_type": "code",
   "execution_count": 22,
   "metadata": {},
   "outputs": [],
   "source": [
    "ones((3,3))"
   ]
  },
  {
   "cell_type": "markdown",
   "metadata": {},
   "source": [
    "## Lecture et écriture de données\n",
    "\n",
    "### Écriture de données\n",
    "\n",
    "Le module `numpy` contient une fonction très pratique, `savetxt`, permettant d’enregistrer des données tabulaires. Les données doivent être stockées dans un tableau numpy à deux dimensions. La fonction `savetxt` permet de contrôler le format des nombres dans chaque colonne (`fmt`), un en-tête peut être ajouté (`header`) et les lignes d'en-tête commencent par un caractère de commentaire (`comment`).\n",
    "\n",
    "**Exemple.**\n",
    "\n",
    "\n",
    "Pour stoker les valeurs de $cos(x)$ avec $x \\in [0, 2 \\pi]$ dans un fichier *cosinus.dat*, le code est comme ci-dessous:"
   ]
  },
  {
   "cell_type": "code",
   "execution_count": 23,
   "metadata": {},
   "outputs": [],
   "source": [
    "'''Créer un tableau à deux dimensions de\n",
    "[x, cos (x)] dans chaque ligne'''\n",
    "import numpy as np\n",
    "x = np.linspace(0, 2*np.pi, 200) # 200 valeurs de x\n",
    "# un tableau 2 colonnes 200 lignes\n",
    "data = np.array([x, np.cos(x)]).transpose()\n",
    "\n",
    "# Écrire un tableau de données dans un fichier sous forme de tableau\n",
    "np.savetxt('cosinus.dat', data, fmt=['%.2f', '%.4f'],\n",
    "           header='x   cos(x)', comments='#')"
   ]
  },
  {
   "cell_type": "markdown",
   "metadata": {},
   "source": [
    "Le fichier *cosinus.dat* est créé dans le répertoire de travail:"
   ]
  },
  {
   "cell_type": "markdown",
   "metadata": {},
   "source": [
    "        # x   cos(x)\n",
    "        0.00 1.0000\n",
    "        0.03 0.9995\n",
    "        0.06 0.9980\n",
    "        0.09 0.9955\n",
    "        0.13 0.9920\n",
    "        0.16 0.9876\n",
    "        0.19 0.9821\n",
    "        0.22 0.9757\n",
    "        0.25 0.9683\n",
    "        ...  ......\n",
    "        ...  ......\n"
   ]
  },
  {
   "cell_type": "markdown",
   "metadata": {},
   "source": [
    "### Lecture de données\n",
    "\n",
    "Les données du fichier *cosinus.dat* peuvent être lues dans un tableau `numpy` par la fonction `loadtxt` (vous pouvez utiliser la commande `help(loadtxt)` dans le notebook pour comprendre l'utilité des arguments entre les parenthèse):"
   ]
  },
  {
   "cell_type": "code",
   "execution_count": 24,
   "metadata": {},
   "outputs": [],
   "source": [
    "data = np.loadtxt('cosinus.dat', comments='#')"
   ]
  },
  {
   "cell_type": "markdown",
   "metadata": {},
   "source": [
    "**Notice.**\n",
    "\n",
    "Les lignes commençant par le caractère de commentaire sont ignorées lors de la lecture. L'objet `data` résultant est un tableau à deux dimensions: `data[i, j]` contient le numéro de ligne `i` et le numéro de colonne `j` dans la table, c'est-à-dire que `data[i, 0]` contiennent la valeur `x` et que `data[i, 1]` la valeur `cos(x)` dans la i-ème ligne.\n",
    "\n",
    "\n",
    "\n",
    "Nous pouvons utiliser le fichier *cosinus.dat* pour tracer la fonction $cos(x)$ comme indiqué dans le code suivant:"
   ]
  },
  {
   "cell_type": "code",
   "execution_count": 25,
   "metadata": {},
   "outputs": [],
   "source": [
    "# Charger les données du fichier 'cosinus.dat'\n",
    "X, C = np.loadtxt('cosinus.dat', comments='#', unpack=True)\n",
    "# Tracer C en fonction de X\n",
    "figure(figsize=(8, 5), dpi=100)\n",
    "plt.plot(X,C)\n",
    "plt.savefig(\"figs/fonct_trig4.png\")\n",
    "plt.savefig(\"figs/fonct_trig4.pdf\")\n",
    "plt.show()"
   ]
  },
  {
   "cell_type": "markdown",
   "metadata": {},
   "source": [
    "La sortie de ce code est la [Figure](#figout:trig4).\n",
    "<!-- dom:FIGURE:[figs/fonct_trig4.png, width=500 frac=0.7] Sortie du code. <div id=\"figout:trig4\"></div> -->\n",
    "<!-- begin figure -->\n",
    "<div id=\"figout:trig4\"></div>\n",
    "\n",
    "<p>Sortie du code.</p>\n",
    "<img src=\"figs/fonct_trig4.png\" width=500>\n",
    "\n",
    "<!-- end figure -->\n",
    "\n",
    "\n",
    "\n",
    "# Bibliothèque Python de visualisation des données: `matplotlib`\n",
    "`matplotlib` (<http://matplotlib.org/>) est une excellente bibliothèque graphique 2D et 3D pour générer des graphiques scientifiques. Voici quelques-uns des nombreux avantages de cette bibliothèque:\n",
    "\n",
    "* Facile à utiliser\n",
    "\n",
    "* Prise en charge des étiquettes et des textes formatés LaTeX\n",
    "\n",
    "* Un excellent contrôle des éléments d'une figure, y compris la taille et la résolution (DPI).\n",
    "\n",
    "* Sortie de haute qualité dans de nombreux formats, y compris PNG, PDF, SVG, EPS, ...\n",
    "\n",
    "* GUI (Graphical User Interface) pour explorer interactivement les figures.\n",
    "\n",
    "## Documentation en ligne et Galerie\n",
    "Vous trouverez plus d'informations, y compris une documentation complète avec une vaste galerie d'exemples, sur le site de `mtplotlib`.\n",
    "\n",
    "De nombreux utilisateurs de `matplotlib` sont souvent confrontés à la question:\n",
    "> Je veux tracer les courbes de deux fonctions ($f$ te $g$) **ressemblant** à une troisième ($h$)?\n",
    "\n",
    "\n",
    "\n",
    "\n",
    " Je souhaite bonne chance à ceux qui désirent obtenir rapidement une réponse, même avec l'aide de **google**!. C'est pourquoi la **galerie de matplotlib** (<http://matplotlib.org/gallery.html>) est si utile, car elle montre la variété des possibilités. Ainsi, vous pouvez parcourir la galerie, cliquer sur n'importe quel graphique qui comporte les éléments que vous voulez reproduire et afficher le code qui a servi à le générer. Vous deviendrez rapidement autonome, vous allez mélanger et assortir différents composants pour produire votre propre chef-d’œuvre!\n",
    "\n",
    "### Guide de Démarrage\n",
    "\n",
    "L'exemple ci-dessous montre comment, de manière très simple, représenter graphiquement la fonction $f(x) = y = x$."
   ]
  },
  {
   "cell_type": "code",
   "execution_count": 26,
   "metadata": {},
   "outputs": [],
   "source": [
    "%matplotlib inline\n",
    "\n",
    "# -*- coding: utf-8 -*-\n",
    "# importaion\n",
    "import matplotlib.pyplot as plt\n",
    "# define x\n",
    "x = [1, 3, 5, 6, 8, 10, 15]\n",
    "# define y\n",
    "y=x\n",
    "# créer un nouveau graphique\n",
    "plt.figure()\n",
    "#plot f(x)= x\n",
    "plt.plot(x, y)\n",
    "# Écrire un texte (label) sur l'axe des x\n",
    "plt.xlabel(\"X-Axis\")\n",
    "# Écrire un texte (label) sur l'axe des y\n",
    "plt.ylabel(\"Y-Axis\")\n",
    "#les graphiques ne seront affichés que lorsque vous appelez plt.show ()\n",
    "plt.show()"
   ]
  },
  {
   "cell_type": "markdown",
   "metadata": {},
   "source": [
    "<!-- dom:FIGURE:[imgs/BasicPlot1.png, width=500 frac=0.7] Fenêtre de traçage de matplotlib. <div id=\"fig:BasicPlot1\"></div> -->\n",
    "<!-- begin figure -->\n",
    "<div id=\"fig:BasicPlot1\"></div>\n",
    "\n",
    "<p>Fenêtre de traçage de matplotlib.</p>\n",
    "<img src=\"imgs/BasicPlot1.png\" width=500>\n",
    "\n",
    "<!-- end figure -->\n",
    "\n",
    "\n",
    "Le graphique (`Figure`) est le conteneur de niveau supérieur dans cette hiérarchie. C'est la fenêtre/page globale sur laquelle tout est dessiné.\n",
    "Vous pouvez avoir plusieurs figures indépendantes et les graphiques peuvent contenir plusieurs `Axes`.\n",
    "\n",
    "La plupart des tracés ont lieu sur des `Axes`. C’est effectivement la zone sur laquelle nous traçons les données et les graduations/labels/etc. qui leur sont associés. Habituellement, nous configurons un `Axes` avec un appel à `Subplot` (qui place les `Axes` sur une grille régulière). Par conséquent, dans la plupart des cas, `Axes` et `Subplot` sont synonymes (figure). Chaque `Axes` ou `Subplot` a un axe X et un axe Y. Ceux-ci contiennent les graduations, les emplacements de graduations, etc.\n",
    "\n",
    "### Vues en grille\n",
    "\n",
    "Nous avons déjà mentionné qu’une figure peut avoir plus d’un axe. Si vous voulez que vos axes soient sur un système de grille standard, il est alors plus simple d'utiliser `plt.subplot(...)` pour créer un graphique et y ajouter les axes automatiquement."
   ]
  },
  {
   "cell_type": "code",
   "execution_count": 27,
   "metadata": {},
   "outputs": [],
   "source": [
    "# -*- coding: utf-8 -*-\n",
    "import matplotlib.pyplot as plt\n",
    "fig1=plt.figure(1)                # the first figure\n",
    "ax1=plt.subplot(211)             # the first subplot in the first figure\n",
    "ax1.plot([1, 2, 3])\n",
    "ax2=plt.subplot(212)             # the second subplot in the first figure\n",
    "ax2.plot([4, 5, 6])\n",
    "\n",
    "fig2=plt.figure(2)                # a second figure\n",
    "plt.plot([4, 5, 6])          # creates a subplot(111) by default\n",
    "\n",
    "fig1=plt.figure(1)                # figure 1 current; subplot(212) still current\n",
    "ax1=plt.subplot(211)             # make subplot(211) in figure1 current\n",
    "ax1.set_title('Easy as 1, 2, 3') # subplot 211 title\n",
    "plt.show()"
   ]
  },
  {
   "cell_type": "markdown",
   "metadata": {},
   "source": [
    "<!-- dom:FIGURE:[imgs/subplot1.png, width=500 frac=0.7] Vue en grille, figure(1). <div id=\"fig:subplot1\"></div> -->\n",
    "<!-- begin figure -->\n",
    "<div id=\"fig:subplot1\"></div>\n",
    "\n",
    "<p>Vue en grille, figure(1).</p>\n",
    "<img src=\"imgs/subplot1.png\" width=500>\n",
    "\n",
    "<!-- end figure -->\n",
    "\n",
    "\n",
    "<!-- dom:FIGURE:[imgs/subplot2.png, width=500 frac=0.7] Graphique unique, figure(2). <div id=\"fig:subplot2\"></div> -->\n",
    "<!-- begin figure -->\n",
    "<div id=\"fig:subplot2\"></div>\n",
    "\n",
    "<p>Graphique unique, figure(2).</p>\n",
    "<img src=\"imgs/subplot2.png\" width=500>\n",
    "\n",
    "<!-- end figure -->\n",
    "\n",
    "\n",
    "### Commandes de texte de base\n",
    "\n",
    "Les commandes suivantes permettent de créer du texte dans l'interface `pyplot`:\n",
    "* `text()` - ajoute du texte à un emplacement quelconque sur les axes; `matplotlib.axes.Axes.text()`.\n",
    "\n",
    "* `xlabel()` - ajoute une étiquette à l'axe des x; `matplotlib.axes.Axes.set_xlabel()`\n",
    "\n",
    "* `ylabel()` - ajoute une étiquette à l'axe des y; `matplotlib.axes.Axes.set_ylabel()`\n",
    "\n",
    "* `title()` - ajoute un titre aux Axes; `matplotlib.axes.Axes.set_title()`\n",
    "\n",
    "* `figtext()` - ajoute du texte à un emplacement quelconque sur la figure; `matplotlib.figure.Figure.text()`\n",
    "\n",
    "* `suptitle()` - ajoute un titre à la figure; `matplotlib.figure.Figure.suptitle()`\n",
    "\n",
    "* `annotate()` - ajoute une annotation, avec une flèche optionnelle, aux axes; `matplotlib.axes.Axes.annotate()`\n",
    "\n",
    "Toutes ces fonctions créent et renvoient une instance `matplotlib.text.Text()`, qui peut être configurée avec diverses polices et autres propriétés. L'exemple ci-dessous montre toutes ces commandes en action."
   ]
  },
  {
   "cell_type": "code",
   "execution_count": 28,
   "metadata": {},
   "outputs": [],
   "source": [
    "# -*- coding: utf-8 -*-\n",
    "import matplotlib.pyplot as plt\n",
    "\n",
    "fig = plt.figure()\n",
    "fig.suptitle('bold figure suptitle', fontsize=14, fontweight='bold')\n",
    "\n",
    "ax = fig.add_subplot(111)\n",
    "fig.subplots_adjust(top=0.85)\n",
    "ax.set_title('axes title')\n",
    "\n",
    "ax.set_xlabel('xlabel')\n",
    "ax.set_ylabel('ylabel')\n",
    "\n",
    "ax.text(3, 8, 'boxed italics text in data coords', style='italic',\n",
    "        bbox={'facecolor':'red', 'alpha':0.5, 'pad':10})\n",
    "\n",
    "ax.text(2, 6, r'an equation: $E=mc^2$', fontsize=15)\n",
    "\n",
    "ax.text(3, 2, u'unicode: Institut f\\374r Festk\\366rperphysik')\n",
    "\n",
    "ax.text(0.95, 0.01, 'colored text in axes coords',\n",
    "        verticalalignment='bottom', horizontalalignment='right',\n",
    "        transform=ax.transAxes,\n",
    "        color='green', fontsize=15)\n",
    "\n",
    "\n",
    "ax.plot([2], [1], 'o')\n",
    "ax.annotate('annotate', xy=(2, 1), xytext=(3, 4),\n",
    "            arrowprops=dict(facecolor='black', shrink=0.05))\n",
    "\n",
    "ax.axis([0, 10, 0, 10])\n",
    "\n",
    "plt.show()"
   ]
  },
  {
   "cell_type": "markdown",
   "metadata": {},
   "source": [
    "<!-- dom:FIGURE:[imgs/BasicText.png, width=500 frac=0.7] Texte de base. <div id=\"fig:BasicText\"></div> -->\n",
    "<!-- begin figure -->\n",
    "<div id=\"fig:BasicText\"></div>\n",
    "\n",
    "<p>Texte de base.</p>\n",
    "<img src=\"imgs/BasicText.png\" width=500>\n",
    "\n",
    "<!-- end figure -->\n",
    "\n",
    "\n",
    "### Styles de lignes et de marqueurs\n",
    "\n",
    "Pour changer la largeur de ligne, nous pouvons utiliser l'argument de mot-clé `linewidth` ou `lw`, et le style de ligne peut être sélectionné à l'aide des arguments de mot-clé `linestyle` ou `ls`:"
   ]
  },
  {
   "cell_type": "code",
   "execution_count": 29,
   "metadata": {},
   "outputs": [],
   "source": [
    "# -*- coding: utf-8 -*-\n",
    "import matplotlib.pyplot as plt\n",
    "import numpy as np\n",
    "x = np.linspace(0, 5, 10)\n",
    "fig, ax = plt.subplots()\n",
    "\n",
    "ax.plot(x, x+1, color=\"blue\", linewidth=0.25)\n",
    "ax.plot(x, x+2, color=\"blue\", linewidth=0.50)\n",
    "ax.plot(x, x+3, color=\"blue\", linewidth=1.00)\n",
    "ax.plot(x, x+4, color=\"blue\", linewidth=2.00)\n",
    "\n",
    "# possible linestype options '-', '-.', ':', 'steps'\n",
    "ax.plot(x, x+5, color=\"red\", lw=2, linestyle='-')\n",
    "ax.plot(x, x+6, color=\"red\", lw=2, ls='-.')\n",
    "ax.plot(x, x+7, color=\"red\", lw=2, ls=':')\n",
    "\n",
    "# custom dash\n",
    "line, = ax.plot(x, x+8, color=\"black\", lw=1.50)\n",
    "line.set_dashes([5, 10, 15, 10]) # format: line length, space length, ...\n",
    "\n",
    "# possible marker symbols: marker = '+', 'o', '*', 's', ',', '.', '1', '2', '3', '4', ...\n",
    "ax.plot(x, x+ 9, color=\"green\", lw=2, ls='-.', marker='+')\n",
    "ax.plot(x, x+10, color=\"green\", lw=2, ls='-.', marker='o')\n",
    "ax.plot(x, x+11, color=\"green\", lw=2, ls='-.', marker='s')\n",
    "ax.plot(x, x+12, color=\"green\", lw=2, ls='-.', marker='1')\n",
    "\n",
    "# marker size and color\n",
    "ax.plot(x, x+13, color=\"purple\", lw=1, ls='-', marker='o', markersize=2)\n",
    "ax.plot(x, x+14, color=\"purple\", lw=1, ls='-', marker='o', markersize=4)\n",
    "ax.plot(x, x+15, color=\"purple\", lw=1, ls='-', marker='o', markersize=8, markerfacecolor=\"red\")\n",
    "ax.plot(x, x+16, color=\"purple\", lw=1, ls='-', marker='s', markersize=8, \n",
    "        markerfacecolor=\"yellow\", markeredgewidth=2, markeredgecolor=\"blue\")\n",
    "# make a title for the subplot\n",
    "ax.set_title('\"ax.plot(x, y, ...)\": Lines and/or markers', fontsize=16, weight='bold')\n",
    "# make x and y axis label and set their font size and weight\n",
    "ax.set_xlabel(\"X-Axis\", fontsize=12, weight='bold')\n",
    "ax.set_ylabel(\"Y-Axis\", fontsize=12, weight='bold')\n",
    "plt.show()"
   ]
  },
  {
   "cell_type": "markdown",
   "metadata": {},
   "source": [
    "<!-- dom:FIGURE:[imgs/LineandMarkerStyles.png, width=500 frac=0.7] Styles de lignes et de marqueurs. <div id=\"fig:LineandMarkerStyles\"></div> -->\n",
    "<!-- begin figure -->\n",
    "<div id=\"fig:LineandMarkerStyles\"></div>\n",
    "\n",
    "<p>Styles de lignes et de marqueurs.</p>\n",
    "<img src=\"imgs/LineandMarkerStyles.png\" width=500>\n",
    "\n",
    "<!-- end figure -->\n",
    "\n",
    "\n",
    "### Colormap: Tracés contour, Imshow et 3D\n",
    "\n",
    "Voir la documentation de matplotlib colormaps <http://matplotlib.org/users/colormaps.html>.\n",
    "\n",
    " * **Tracés contour :**"
   ]
  },
  {
   "cell_type": "code",
   "execution_count": 30,
   "metadata": {},
   "outputs": [],
   "source": [
    "# -*- coding: utf-8 -*-\n",
    "import numpy as np\n",
    "import matplotlib.pyplot as plt\n",
    "\n",
    "def f(x,y):\n",
    "    return (1 - x / 2 + x**5 + y**3) * np.exp(-x**2 -y**2)\n",
    "\n",
    "n = 256\n",
    "x = np.linspace(-3, 3, n)\n",
    "y = np.linspace(-3, 3, n)\n",
    "X,Y = np.meshgrid(x, y)\n",
    "\n",
    "plt.axes([0.025, 0.025, 0.95, 0.95])\n",
    "\n",
    "plt.contourf(X, Y, f(X, Y), 8, alpha=.75, cmap=plt.cm.gray)\n",
    "C = plt.contour(X, Y, f(X, Y), 8, colors='black', linewidth=.5)\n",
    "plt.clabel(C, inline=1, fontsize=10)\n",
    "\n",
    "plt.xticks(())\n",
    "plt.yticks(())\n",
    "plt.show()"
   ]
  },
  {
   "cell_type": "markdown",
   "metadata": {},
   "source": [
    "<!-- dom:FIGURE:[imgs/ContourPlot.png, width=500 frac=0.7] Exemple de tracé de contour. <div id=\"fig:ContourPlot\"></div> -->\n",
    "<!-- begin figure -->\n",
    "<div id=\"fig:ContourPlot\"></div>\n",
    "\n",
    "<p>Exemple de tracé de contour.</p>\n",
    "<img src=\"imgs/ContourPlot.png\" width=500>\n",
    "\n",
    "<!-- end figure -->\n",
    "\n",
    "\n",
    "* **Imshow (Image pixelisée) :**"
   ]
  },
  {
   "cell_type": "code",
   "execution_count": 31,
   "metadata": {},
   "outputs": [],
   "source": [
    "# -*- coding: utf-8 -*-\n",
    "import numpy as np\n",
    "import matplotlib.pyplot as plt\n",
    "\n",
    "def f(x, y):\n",
    "    return (1 - x / 2 + x ** 5 + y ** 3 ) * np.exp(-x ** 2 - y ** 2)\n",
    "\n",
    "n = 10\n",
    "x = np.linspace(-3, 3, 3.5 * n)\n",
    "y = np.linspace(-3, 3, 3.0 * n)\n",
    "X, Y = np.meshgrid(x, y)\n",
    "Z = f(X, Y)\n",
    "\n",
    "plt.axes([0.025, 0.025, 0.95, 0.95])\n",
    "plt.imshow(Z, interpolation='nearest', cmap='gray', origin='lower')\n",
    "plt.colorbar(shrink=.92)\n",
    "\n",
    "plt.xticks(())\n",
    "plt.yticks(())\n",
    "plt.show()"
   ]
  },
  {
   "cell_type": "markdown",
   "metadata": {},
   "source": [
    "<!-- dom:FIGURE:[imgs/Imshow.png, width=500 frac=0.7] Exemple d'image pixelisée. <div id=\"fig:CImshow\"></div> -->\n",
    "<!-- begin figure -->\n",
    "<div id=\"fig:CImshow\"></div>\n",
    "\n",
    "<p>Exemple d'image pixelisée.</p>\n",
    "<img src=\"imgs/Imshow.png\" width=500>\n",
    "\n",
    "<!-- end figure -->\n",
    "\n",
    "\n",
    "* **Tracé en 3D :**"
   ]
  },
  {
   "cell_type": "code",
   "execution_count": 32,
   "metadata": {},
   "outputs": [],
   "source": [
    "# -*- coding: utf-8 -*-\n",
    "import numpy as np\n",
    "import matplotlib.pyplot as plt\n",
    "from mpl_toolkits.mplot3d import Axes3D\n",
    "\n",
    "fig = plt.figure()\n",
    "ax = Axes3D(fig)\n",
    "X = np.arange(-4, 4, 0.25)\n",
    "Y = np.arange(-4, 4, 0.25)\n",
    "X, Y = np.meshgrid(X, Y)\n",
    "R = np.sqrt(X ** 2 + Y ** 2)\n",
    "Z = np.sin(R)\n",
    "\n",
    "ax.plot_surface(X, Y, Z, rstride=1, cstride=1, cmap=plt.cm.gray)\n",
    "ax.contourf(X, Y, Z, zdir='z', offset=-2, cmap=plt.cm.gray)\n",
    "ax.set_zlim(-2, 2)\n",
    "\n",
    "plt.show()"
   ]
  },
  {
   "cell_type": "markdown",
   "metadata": {},
   "source": [
    "<!-- dom:FIGURE:[imgs/Plot3D.png, width=500 frac=0.7] Exemple de tracé en 3D. <div id=\"fig:3D\"></div> -->\n",
    "<!-- begin figure -->\n",
    "<div id=\"fig:3D\"></div>\n",
    "\n",
    "<p>Exemple de tracé en 3D.</p>\n",
    "<img src=\"imgs/Plot3D.png\" width=500>\n",
    "\n",
    "<!-- end figure -->"
   ]
  }
 ],
 "metadata": {
  "kernelspec": {
   "display_name": "Python 3",
   "language": "python",
   "name": "python3"
  },
  "language_info": {
   "codemirror_mode": {
    "name": "ipython",
    "version": 3
   },
   "file_extension": ".py",
   "mimetype": "text/x-python",
   "name": "python",
   "nbconvert_exporter": "python",
   "pygments_lexer": "ipython3",
   "version": "3.6.8"
  }
 },
 "nbformat": 4,
 "nbformat_minor": 2
}
