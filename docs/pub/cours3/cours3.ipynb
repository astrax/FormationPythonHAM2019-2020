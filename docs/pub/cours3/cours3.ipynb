{
 "cells": [
  {
   "cell_type": "markdown",
   "metadata": {},
   "source": [
    "<!-- dom:TITLE: Bibliothèques scientifiques de Python -->\n",
    "# Bibliothèques scientifiques de Python\n",
    "<!-- dom:AUTHOR: Ahmed Ammar Email:ahmed.ammar@fst.utm.tn at Université de Tunis El Manar. -->\n",
    "<!-- Author: -->  \n",
    "**Ahmed Ammar** (email: `ahmed.ammar@fst.utm.tn`), Université de Tunis El Manar.\n",
    "\n",
    "Date: **Nov 17, 2019**\n",
    "\n",
    "Copyright 2019, Ahmed Ammar. Released under CC Attribution 4.0 license\n",
    "\n",
    "\n",
    "\n",
    "\n",
    "\n",
    "\n",
    "\n",
    "\n",
    "# Introduction\n",
    "\n",
    "## Calculs des fonctions trigonométriques avec le module `math`"
   ]
  },
  {
   "cell_type": "code",
   "execution_count": 1,
   "metadata": {
    "collapsed": false
   },
   "outputs": [],
   "source": [
    "# importation des fonctions trigonométriques du module math\n",
    "from math import cos, sin, pi\n",
    "# définition des variable (listes)\n",
    "X, C, S =[],[], []\n",
    "k = 0 # initialisation du compteur\n",
    "while 0 <= k <= 2*pi:\n",
    "    # stokage des valeurs dans les listes\n",
    "    C.append(cos(k))\n",
    "    S.append(sin(k))\n",
    "    X.append(k)\n",
    "    k+=0.05\n",
    "\n",
    "# Affichage des listes crées\n",
    "#print(\"Les abscisses (X) = \", X)\n",
    "print(\"Fonction cosinus (cos(X)) = \", C)\n",
    "#print(\"Fonction sinus (sin(X)) = \", S)"
   ]
  },
  {
   "cell_type": "markdown",
   "metadata": {},
   "source": [
    "Vous voyez ici qu'il est difficile de vérifier **toutes** les valeurs stockées dans une liste assez grande. Pour cette raison, une représentation graphique donne une vue générale de nos calculs et permet d'identifier immédiatement les erreurs éventuelles ou les artefacts de calcul susceptibles d'affecter nos calculs.\n",
    "\n",
    "La bibliothèque `matplotlib` est choisie comme le meilleur candidat pour cette tâche, que nous verrons plus en détail plus loin dans ce chapitre."
   ]
  },
  {
   "cell_type": "code",
   "execution_count": 2,
   "metadata": {
    "collapsed": false
   },
   "outputs": [],
   "source": [
    "%matplotlib inline\n",
    "\n",
    "# importation de la bibliothèque matplotlib\n",
    "import matplotlib.pyplot as plt\n",
    "'''il y a d'autres approches pour l'importation\n",
    "que nous discuterons dans la section matplotlib'''\n",
    "plt.plot(X, C, label=\"cos(X)\")\n",
    "plt.plot(X, S, label=\"sin(X)\")\n",
    "# Courbe de la somme cos(x) + sin(x):\n",
    "#plt.plot(X, C+S, label=\"cos(x) + sin(x)\") #--> Erreur!! pourquoi?\n",
    "\n",
    "plt.title(\"Fonctions trigonométriques\")\n",
    "plt.xlabel(\"X\")\n",
    "plt.ylabel(\"Y\")\n",
    "plt.legend()\n",
    "plt.savefig(\"figs/fonct_trig1.png\")\n",
    "plt.savefig(\"figs/fonct_trig1.pdf\")\n",
    "plt.show()"
   ]
  },
  {
   "cell_type": "markdown",
   "metadata": {},
   "source": [
    "La sortie de ce code est la [Figure](#figout:trig1).\n",
    "<!-- dom:FIGURE:[figs/fonct_trig1.png, width=500 frac=0.7] Sortie du code. <div id=\"figout:trig1\"></div> -->\n",
    "<!-- begin figure -->\n",
    "<div id=\"figout:trig1\"></div>\n",
    "\n",
    "<p>Sortie du code.</p>\n",
    "<img src=\"figs/fonct_trig1.png\" width=500>\n",
    "\n",
    "<!-- end figure -->\n",
    "\n",
    "\n",
    "**Question.**\n",
    "\n",
    "Essayez de tracer sur le même graphique: $cos (X) + sin (X) = C + S$. Que se passe-t-il? et pourquoi?\n",
    "\n",
    "\n",
    "\n",
    "**Investigation: nature de l'addition.**"
   ]
  },
  {
   "cell_type": "code",
   "execution_count": 3,
   "metadata": {
    "collapsed": false
   },
   "outputs": [],
   "source": [
    "In [6]: print(\"Type de C = \", type(C))\n",
    "   ...: print(\"Longueur de C = \", len(C))\n",
    "   ...: print(\"Type de C + S= \", type(C+S))\n",
    "   ...: print(\"Longueur de C + S = \", len(C+S))\n",
    "Type de C =  <class 'list'>\n",
    "Longueur de C =  126\n",
    "Type de C + S=  <class 'list'>\n",
    "Longueur de C + S =  252"
   ]
  },
  {
   "cell_type": "markdown",
   "metadata": {},
   "source": [
    "Il est clair donc que `C + S` n'est pas la somme algébrique $cos (X) + sin (X)$. Sachant que nous avons une opération d'addition de deux listes, cela signifie que nous ajoutons 126 éléments de la liste `S` à la liste `C` de 63 éléments. Et ainsi la nouvelle liste `C + S` est créée avec une longueur égale à 252.\n",
    "\n",
    "A titre d'exemple, soit l'addition de deux listes suivantes:"
   ]
  },
  {
   "cell_type": "code",
   "execution_count": 4,
   "metadata": {
    "collapsed": false
   },
   "outputs": [],
   "source": [
    "In [7]: liste1 = [1, 2, 3] ; liste2 = [0, 5, 6]\n",
    "   ...: liste1 + liste2\n",
    "Out[7]: [1, 2, 3, 0, 5, 6]"
   ]
  },
  {
   "cell_type": "markdown",
   "metadata": {},
   "source": [
    "Donc, pour tirer la somme des cosinus et des sinus (C + S), nous devons construire une nouvelle liste (`CpS = []` par exemple) là où nous avons défini les listes `X`,` C` et `S `et le remplir à chaque itération de` k` avec `cos (k) + sin (k)`.\n",
    "\n",
    "\n",
    "## Vectorisation avec le module numpy\n",
    "En utilisant l'instruction `numpy.array` du module` numpy`, les listes peuvent être converties en tableaux. Cela facilite et rend plus efficace l'application d'opérations mathématiques à ces variables.\n",
    "\n",
    "Voici la solution pour le cas précédent:"
   ]
  },
  {
   "cell_type": "code",
   "execution_count": 5,
   "metadata": {
    "collapsed": false
   },
   "outputs": [],
   "source": [
    "In [8]: # importer le module numpy avec l'alias 'np'\n",
    "   ...: import numpy as np\n",
    "   ...: # Transformer des listes en tableaux Numpy\n",
    "   ...: X_v = np.array(X)\n",
    "   ...: C_v = np.array(C)\n",
    "   ...: S_v = np.array(S)\n",
    "   ...:\n",
    "   ...: # Afficher le tableau de cosinus C_v par exemple:\n",
    "   ...: C_v\n",
    "Out[8]:\n",
    "array([ 1.        ,  0.99875026,  0.99500417,  0.98877108,  0.98006658,\n",
    "        0.96891242,  0.95533649,  0.93937271,  0.92106099,  0.9004471 ,\n",
    "        0.87758256,  0.85252452,  0.82533561,  0.7960838 ,  0.76484219,\n",
    "        0.73168887,  0.69670671,  0.65998315,  0.62160997,  0.58168309,\n",
    "        0.54030231,  0.49757105,  0.45359612,  0.40848744,  0.36235775,\n",
    "        0.31532236,  0.26749883,  0.21900669,  0.16996714,  0.12050277,\n",
    "        0.0707372 ,  0.02079483, -0.02919952, -0.07912089, -0.12884449,\n",
    "       -0.17824606, -0.22720209, -0.27559025, -0.32328957, -0.37018083,\n",
    "       -0.41614684, -0.46107269, -0.5048461 , -0.54735767, -0.58850112,\n",
    "       -0.62817362, -0.66627602, -0.70271308, -0.73739372, -0.77023125,\n",
    "       -0.80114362, -0.83005354, -0.85688875, -0.8815822 , -0.90407214,\n",
    "       -0.92430238, -0.94222234, -0.95778724, -0.97095817, -0.9817022 ,\n",
    "       -0.9899925 , -0.99580832, -0.99913515, -0.99996466, -0.99829478,\n",
    "       -0.99412968, -0.98747977, -0.97836168, -0.96679819, -0.95281821,\n",
    "       -0.93645669, -0.91775451, -0.89675842, -0.8735209 , -0.84810003,\n",
    "       -0.82055936, -0.79096771, -0.75939906, -0.7259323 , -0.6906511 ,\n",
    "       -0.65364362, -0.61500238, -0.57482395, -0.53320876, -0.49026082,\n",
    "       -0.44608749, -0.40079917, -0.35450907, -0.30733287, -0.2593885 ,\n",
    "       -0.2107958 , -0.16167622, -0.11215253, -0.06234851, -0.01238866,\n",
    "        0.03760215,  0.08749898,  0.13717711,  0.18651237,  0.23538144,\n",
    "        0.28366219,  0.33123392,  0.37797774,  0.42377682,  0.46851667,\n",
    "        0.51208548,  0.55437434,  0.59527755,  0.63469288,  0.6725218 ,\n",
    "        0.70866977,  0.74304644,  0.77556588,  0.80614681,  0.83471278,\n",
    "        0.86119242,  0.88551952,  0.90763328,  0.92747843,  0.94500537,\n",
    "        0.96017029,  0.97293528,  0.98326844,  0.99114394,  0.9965421 ,\n",
    "        0.99944942])"
   ]
  },
  {
   "cell_type": "markdown",
   "metadata": {},
   "source": [
    "Nous pouvons vérifier que nous avons maintenant des tableaux et que l'ajout de ses éléments est possible:"
   ]
  },
  {
   "cell_type": "code",
   "execution_count": 6,
   "metadata": {
    "collapsed": false
   },
   "outputs": [],
   "source": [
    "In [9]: print(\"Type de C_v = \", type(C_v))\n",
    "   ...: print(\"Longueur de C_v = \", len(C_v))\n",
    "   ...: print(\"Type de C_v + S_v = \", type(C_v + S_v))\n",
    "   ...: print(\"Longueur de C_v + S_v = \", len(C_v + S_v))\n",
    "Type de C_v =  <class 'numpy.ndarray'>\n",
    "Longueur de C_v =  126\n",
    "Type de C_v + S_v =  <class 'numpy.ndarray'>\n",
    "Longueur de C_v + S_v =  126"
   ]
  },
  {
   "cell_type": "markdown",
   "metadata": {},
   "source": [
    "Ainsi, la représentation graphique utilisant `matplotlib.pyplot` est la suivante:"
   ]
  },
  {
   "cell_type": "code",
   "execution_count": 7,
   "metadata": {
    "collapsed": false
   },
   "outputs": [],
   "source": [
    "import matplotlib.pyplot as plt\n",
    "\n",
    "plt.plot(X_v, C_v, label=\"cos(X)\")\n",
    "plt.plot(X_v, S_v, label=\"sin(X)\")\n",
    "plt.plot(X_v, C_v + S_v, label=\"cos(X) + sin(X)\")\n",
    "\n",
    "plt.title(\"Fonctions trigonometriques\")\n",
    "plt.xlabel(\"X\")\n",
    "plt.ylabel(\"Y\")\n",
    "plt.legend()\n",
    "plt.savefig(\"figs/fonct_trig2.png\")\n",
    "plt.savefig(\"figs/fonct_trig2.pdf\")\n",
    "plt.show()"
   ]
  },
  {
   "cell_type": "markdown",
   "metadata": {},
   "source": [
    "La sortie de ce code est la [Figure](#figout:trig2).\n",
    "<!-- dom:FIGURE:[figs/fonct_trig2.png, width=500 frac=0.7] Sortie du code. <div id=\"figout:trig2\"></div> -->\n",
    "<!-- begin figure -->\n",
    "<div id=\"figout:trig2\"></div>\n",
    "\n",
    "<p>Sortie du code.</p>\n",
    "<img src=\"figs/fonct_trig2.png\" width=500>\n",
    "\n",
    "<!-- end figure -->\n",
    "\n",
    "\n",
    "## Utilisation de pylab (numpy + matplotlib)\n",
    "\n",
    "### Création des tableaux\n",
    "\n",
    "Avec la fonction `numpy.arange()`, nous pouvons créer automatiquement des tableaux sans avoir besoin de programmer une boucle:"
   ]
  },
  {
   "cell_type": "code",
   "execution_count": 8,
   "metadata": {
    "collapsed": false
   },
   "outputs": [],
   "source": [
    "# importer toutes les fonctionnalités des modules numpy et matplotlib\n",
    "from pylab import *\n",
    "# Fonctions du module numpy pour le calcul numérique\n",
    "X_np = arange(0, 2* pi, 0.05)# générer un tableau arange(start, stop, step)\n",
    "C_np = cos(X_np)# ici le cos et le sin sont aussi importés du module numpy\n",
    "S_np = sin(X_np)"
   ]
  },
  {
   "cell_type": "markdown",
   "metadata": {},
   "source": [
    "### Traçage des fonctions trigonométrique cos(X), sin(X) et cos(X)+ sin(X)\n",
    "\n",
    "Nous pouvons ainsi créer et tracer directement dans le graphique la somme $cos(X)+ sin(X)$ comme le montre le code suivant:"
   ]
  },
  {
   "cell_type": "code",
   "execution_count": 9,
   "metadata": {
    "collapsed": false
   },
   "outputs": [],
   "source": [
    "# Fonctions du module matplotlib pour la représentation graphique\n",
    "plot(X_np, C_np, label=\"cos(X)\")\n",
    "plot(X_np, S_np, label=\"sin(X)\")\n",
    "plot(X_np, C_np + S_np, label=\"cos(X) + sin(X)\")\n",
    "title(\"Fonctions trigonométriques\")\n",
    "xlabel(\"X\")\n",
    "ylabel(\"Y\")\n",
    "legend()\n",
    "plt.savefig(\"figs/fonct_trig3.png\")\n",
    "plt.savefig(\"figs/fonct_trig3.pdf\")\n",
    "show()"
   ]
  },
  {
   "cell_type": "markdown",
   "metadata": {},
   "source": [
    "La sortie de ce code est la [Figure](#figout:trig3).\n",
    "<!-- dom:FIGURE:[figs/fonct_trig3.png, width=500 frac=0.7] Sortie du code. <div id=\"figout:trig3\"></div> -->\n",
    "<!-- begin figure -->\n",
    "<div id=\"figout:trig3\"></div>\n",
    "\n",
    "<p>Sortie du code.</p>\n",
    "<img src=\"figs/fonct_trig3.png\" width=500>\n",
    "\n",
    "<!-- end figure -->\n",
    "\n",
    "\n",
    "# Introduction à Numpy\n",
    "\n",
    "La bibliothèque `numpy` (module) est utilisée dans presque tous les calculs numériques réalisés à l'aide de Python. C'est une bibliothèque qui fournit des structures de données de haute performance de type vectoriel, matriciel et de dimensions supérieures. Il est implémenté avec les syntax de C et Fortran, ainsi lorsque les calculs sont vectorisés les performances sont très bonnes.\n",
    "\n",
    "Pour utiliser `numpy`, vous devez importer le module:"
   ]
  },
  {
   "cell_type": "code",
   "execution_count": 10,
   "metadata": {
    "collapsed": false
   },
   "outputs": [],
   "source": [
    "from numpy import *"
   ]
  },
  {
   "cell_type": "markdown",
   "metadata": {},
   "source": [
    "Dans la bibliothèque `numpy`, la terminologie utilisée pour les vecteurs, les matrices et tout ensemble de données à grande dimension est **array**.\n",
    "\n",
    "## Tableaux et matrices\n",
    "\n",
    "Il existe plusieurs façons d'initialiser de nouveaux tableaux `numpy`, par exemple à partir de:\n",
    "\n",
    "* Des liste ou des tuples\n",
    "\n",
    "* Utilisant des fonctions dédiées à la génération de tableaux numpy, tels que `arange`, `linspace`, etc.\n",
    "\n",
    "* Lecture de données à partir de fichiers\n",
    "\n",
    "### Listes\n",
    "\n",
    "Par exemple, pour créer de nouveaux tableaux vectoriels et matriciels à partir de listes Python, nous pouvons utiliser la fonction `numpy.array`."
   ]
  },
  {
   "cell_type": "code",
   "execution_count": 11,
   "metadata": {
    "collapsed": false
   },
   "outputs": [],
   "source": [
    "In [8]: ''' Un vecteur: l'argument de la fonction\n",
    "array est une liste Python'''\n",
    "   ...: v = array([1,2,3,4])\n",
    "   ...: v\n",
    "Out[8]: array([1, 2, 3, 4])"
   ]
  },
  {
   "cell_type": "code",
   "execution_count": 12,
   "metadata": {
    "collapsed": false
   },
   "outputs": [],
   "source": [
    "In [9]: ''' Une matrice: l'argument de la fonction\n",
    "de tableau est une liste imbriquée de Python'''\n",
    "   ...: M = array([[1, 2], [3, 4]])\n",
    "   ...: M\n",
    "Out[9]:\n",
    "array([[1, 2],\n",
    "       [3, 4]])"
   ]
  },
  {
   "cell_type": "markdown",
   "metadata": {},
   "source": [
    "Les variables `v` et `M` sont de type `ndarray` que fournit le module `numpy`."
   ]
  },
  {
   "cell_type": "code",
   "execution_count": 13,
   "metadata": {
    "collapsed": false
   },
   "outputs": [],
   "source": [
    "In [10]: type(v), type(M)\n",
    "Out[10]: (numpy.ndarray, numpy.ndarray)"
   ]
  },
  {
   "cell_type": "markdown",
   "metadata": {},
   "source": [
    "La différence entre les tableaux `v` et `M` n'est que dans leur forme. Nous pouvons obtenir des informations sur la forme d'un tableau en utilisant la propriété `ndarray.shape`."
   ]
  },
  {
   "cell_type": "code",
   "execution_count": 14,
   "metadata": {
    "collapsed": false
   },
   "outputs": [],
   "source": [
    "In [11]: v.shape\n",
    "Out[11]: (4,)"
   ]
  },
  {
   "cell_type": "code",
   "execution_count": 15,
   "metadata": {
    "collapsed": false
   },
   "outputs": [],
   "source": [
    "In [13]: M.shape\n",
    "Out[13]: (2, 2)"
   ]
  },
  {
   "cell_type": "markdown",
   "metadata": {},
   "source": [
    "Le nombre d'éléments dans le tableau est disponible via la propriété `ndarray.size`:"
   ]
  },
  {
   "cell_type": "code",
   "execution_count": 16,
   "metadata": {
    "collapsed": false
   },
   "outputs": [],
   "source": [
    "In [14]: M.size\n",
    "Out[14]: 4"
   ]
  },
  {
   "cell_type": "markdown",
   "metadata": {},
   "source": [
    "De manière équivalente, nous pourrions utiliser la fonction `numpy.shape` et `numpy.size`"
   ]
  },
  {
   "cell_type": "code",
   "execution_count": 17,
   "metadata": {
    "collapsed": false
   },
   "outputs": [],
   "source": [
    "In [15]: shape(M)\n",
    "Out[15]: (2, 2)"
   ]
  },
  {
   "cell_type": "markdown",
   "metadata": {},
   "source": [
    "et"
   ]
  },
  {
   "cell_type": "code",
   "execution_count": 18,
   "metadata": {
    "collapsed": false
   },
   "outputs": [],
   "source": [
    "size(M)\n",
    "Out[16]: 4"
   ]
  },
  {
   "cell_type": "markdown",
   "metadata": {},
   "source": [
    "Jusqu'à présent, le `numpy.ndarray` ressemble beaucoup à une liste Python (ou à une liste imbriquée).\n",
    "\n",
    "**Question.**\n",
    "\n",
    "Pourquoi ne pas utiliser simplement les listes Python pour les calculs au lieu de créer un nouveau type de tableau?\n",
    "\n",
    "\n",
    "\n",
    "**Notice.**\n",
    "\n",
    "Il existe plusieurs raisons pour ne pas utiliser que les listes:\n",
    "* Les listes de Python sont très générales. Ils peuvent contenir tout type d'objets. Une même liste peut contenir des éléments de différentes natures et changeables. Ils ne prennent pas en charge les fonctions mathématiques telles que les multiplications de matrice et de points, etc. L'implémentation de telles fonctions pour les listes Python ne serait pas très efficace en raison du typage dynamique.\n",
    "\n",
    "* Les tableaux Numpy sont **typés** et **homogènes**. Le type d'éléments est déterminé lorsque le tableau est créé.\n",
    "\n",
    "* Les tableaux Numpy sont efficaces pour la gestion de la mémoire.\n",
    "\n",
    "* En raison du typage statique, la mise en œuvre rapide de fonctions mathématiques telles que la multiplication et l'ajout de tableaux `numpy` peut être implémentée dans une langue compilée (C et Fortran sont utilisés).\n",
    "\n",
    "\n",
    "\n",
    "En utilisant la propriété `dtype` (type de données) d'un `ndarray`, on peut connaitre le type des éléments d'un tableau ou d'une matrice:"
   ]
  },
  {
   "cell_type": "code",
   "execution_count": 19,
   "metadata": {
    "collapsed": false
   },
   "outputs": [],
   "source": [
    "In [17]: M.dtype\n",
    "Out[17]: dtype('int64')"
   ]
  },
  {
   "cell_type": "markdown",
   "metadata": {},
   "source": [
    "Si nous le désirons, nous pouvons définir explicitement le type de données du tableau lorsque nous le créons, ceci en utilisant le mot-clé `dtype` comme argument:"
   ]
  },
  {
   "cell_type": "code",
   "execution_count": 20,
   "metadata": {
    "collapsed": false
   },
   "outputs": [],
   "source": [
    "In [18]: M = array([[1, 2], [3, 4]], dtype=complex)\n",
    "    ...: M\n",
    "Out[18]:\n",
    "array([[1.+0.j, 2.+0.j],\n",
    "       [3.+0.j, 4.+0.j]])"
   ]
  },
  {
   "cell_type": "markdown",
   "metadata": {},
   "source": [
    "**Notice.**\n",
    "\n",
    "Les types usuels qui peuvent être utilisés avec `dtype` sont: `int`, `float`, `complex`, `bool`, `object`, etc. Nous pouvons également définir explicitement la taille des bits des éléments, par exemple: `int64`, `int16`, `float128`, `complex128`.\n",
    "\n",
    "\n",
    "\n",
    "### Utilisation de fonctions génératrices de tableaux et de matrices\n",
    "\n",
    "Pour les tableaux de grandes tailles, il est inconcevable d'initialiser les données manuellement. Au lieu de cela, nous pouvons utiliser l'une des nombreuses fonctions dans `numpy` qui génère des tableaux ou des matrices de différentes formes et tailles. Certains parmi les plus utilisés sont:\n",
    "* `arange()`\n",
    "\n",
    "* `linspace()` et `logspace()`\n",
    "\n",
    "* `mgrid()`\n",
    "\n",
    "* `diag()`\n",
    "\n",
    "* `zeros()` et `ones()`\n",
    "\n",
    "* ...\n",
    "\n",
    "**Fonction `arange()` :**"
   ]
  },
  {
   "cell_type": "code",
   "execution_count": 21,
   "metadata": {
    "collapsed": false
   },
   "outputs": [],
   "source": [
    "In [19]: # Création d'un tableau à l'aide de la fonction arange()\n",
    "    ...: x = arange(0, 10, 1) # Arguments: start, stop, step\n",
    "    ...: x\n",
    "Out[19]: array([0, 1, 2, 3, 4, 5, 6, 7, 8, 9])"
   ]
  },
  {
   "cell_type": "code",
   "execution_count": 22,
   "metadata": {
    "collapsed": false
   },
   "outputs": [],
   "source": [
    "In [23]: x = arange(-2, 2, 0.1)\n",
    "    ...: x\n",
    "Out[23]:\n",
    "array([-2.00000000e+00, -1.90000000e+00, -1.80000000e+00, -1.70000000e+00,\n",
    "       -1.60000000e+00, -1.50000000e+00, -1.40000000e+00, -1.30000000e+00,\n",
    "       -1.20000000e+00, -1.10000000e+00, -1.00000000e+00, -9.00000000e-01,\n",
    "       -8.00000000e-01, -7.00000000e-01, -6.00000000e-01, -5.00000000e-01,\n",
    "       -4.00000000e-01, -3.00000000e-01, -2.00000000e-01, -1.00000000e-01,\n",
    "        1.77635684e-15,  1.00000000e-01,  2.00000000e-01,  3.00000000e-01,\n",
    "        4.00000000e-01,  5.00000000e-01,  6.00000000e-01,  7.00000000e-01,\n",
    "        8.00000000e-01,  9.00000000e-01,  1.00000000e+00,  1.10000000e+00,\n",
    "        1.20000000e+00,  1.30000000e+00,  1.40000000e+00,  1.50000000e+00,\n",
    "        1.60000000e+00,  1.70000000e+00,  1.80000000e+00,  1.90000000e+00])"
   ]
  },
  {
   "cell_type": "markdown",
   "metadata": {},
   "source": [
    "**Fonctions `linspace()` et `logspace()`:**"
   ]
  },
  {
   "cell_type": "code",
   "execution_count": 23,
   "metadata": {
    "collapsed": false
   },
   "outputs": [],
   "source": [
    "In [24]: # En utilisant linspace, les deux points finaux sont inclus\n",
    "    ...: linspace(0, 10, 20) # linspace(star, stop, Nombre de points)\n",
    "Out[24]:\n",
    "array([ 0.        ,  0.52631579,  1.05263158,  1.57894737,  2.10526316,\n",
    "        2.63157895,  3.15789474,  3.68421053,  4.21052632,  4.73684211,\n",
    "        5.26315789,  5.78947368,  6.31578947,  6.84210526,  7.36842105,\n",
    "        7.89473684,  8.42105263,  8.94736842,  9.47368421, 10.        ])"
   ]
  },
  {
   "cell_type": "code",
   "execution_count": 24,
   "metadata": {
    "collapsed": false
   },
   "outputs": [],
   "source": [
    "In [25]: logspace(0, 10, 10, base=e)\n",
    "Out[25]:\n",
    "array([1.00000000e+00, 3.03773178e+00, 9.22781435e+00, 2.80316249e+01,\n",
    "       8.51525577e+01, 2.58670631e+02, 7.85771994e+02, 2.38696456e+03,\n",
    "       7.25095809e+03, 2.20264658e+04])"
   ]
  },
  {
   "cell_type": "markdown",
   "metadata": {},
   "source": [
    "**Fonctions `mgrid()` et `meshgrid()`:**"
   ]
  },
  {
   "cell_type": "code",
   "execution_count": 25,
   "metadata": {
    "collapsed": false
   },
   "outputs": [],
   "source": [
    "In [26]: x, y = mgrid[0:5, 0:5] # Similaire à meshgrid dans MATLAB\n",
    "    ...: x\n",
    "Out[26]:\n",
    "array([[0, 0, 0, 0, 0],\n",
    "       [1, 1, 1, 1, 1],\n",
    "       [2, 2, 2, 2, 2],\n",
    "       [3, 3, 3, 3, 3],\n",
    "       [4, 4, 4, 4, 4]])\n",
    "\n",
    "In [27]: y\n",
    "Out[27]:\n",
    "array([[0, 1, 2, 3, 4],\n",
    "       [0, 1, 2, 3, 4],\n",
    "       [0, 1, 2, 3, 4],\n",
    "       [0, 1, 2, 3, 4],\n",
    "       [0, 1, 2, 3, 4]])"
   ]
  },
  {
   "cell_type": "code",
   "execution_count": 26,
   "metadata": {
    "collapsed": false
   },
   "outputs": [],
   "source": [
    "In [31]: x, y = meshgrid(linspace(0,2,6),linspace(0,2,6))\n",
    "    ...: x\n",
    "Out[31]:\n",
    "array([[0. , 0.4, 0.8, 1.2, 1.6, 2. ],\n",
    "       [0. , 0.4, 0.8, 1.2, 1.6, 2. ],\n",
    "       [0. , 0.4, 0.8, 1.2, 1.6, 2. ],\n",
    "       [0. , 0.4, 0.8, 1.2, 1.6, 2. ],\n",
    "       [0. , 0.4, 0.8, 1.2, 1.6, 2. ],\n",
    "       [0. , 0.4, 0.8, 1.2, 1.6, 2. ]])\n",
    "\n",
    "In [32]: y\n",
    "Out[32]:\n",
    "array([[0. , 0. , 0. , 0. , 0. , 0. ],\n",
    "       [0.4, 0.4, 0.4, 0.4, 0.4, 0.4],\n",
    "       [0.8, 0.8, 0.8, 0.8, 0.8, 0.8],\n",
    "       [1.2, 1.2, 1.2, 1.2, 1.2, 1.2],\n",
    "       [1.6, 1.6, 1.6, 1.6, 1.6, 1.6],\n",
    "       [2. , 2. , 2. , 2. , 2. , 2. ]])"
   ]
  },
  {
   "cell_type": "markdown",
   "metadata": {},
   "source": [
    "**Fonctions `rand()`, `randint()`:**"
   ]
  },
  {
   "cell_type": "code",
   "execution_count": 27,
   "metadata": {
    "collapsed": false
   },
   "outputs": [],
   "source": [
    "''' Nombres aléatoires uniformes dans [0,1]\n",
    "dans une matrice (3,2)'''\n",
    "In [37]: rand(3,2)\n",
    "Out[37]:\n",
    "array([[0.01900499, 0.10872428],\n",
    "       [0.78849226, 0.22114384],\n",
    "       [0.88739675, 0.94190273]])"
   ]
  },
  {
   "cell_type": "code",
   "execution_count": 28,
   "metadata": {
    "collapsed": false
   },
   "outputs": [],
   "source": [
    "'''Générer un tableau 2 x 4 d'entiers compris entre 0 et 4 inclus'''\n",
    "In [39]: randint(5, size=(2, 4))\n",
    "Out[39]:\n",
    "array([[0, 1, 4, 4],\n",
    "       [4, 0, 0, 4]])"
   ]
  },
  {
   "cell_type": "markdown",
   "metadata": {},
   "source": [
    "**Fonction `diag()`:**"
   ]
  },
  {
   "cell_type": "code",
   "execution_count": 29,
   "metadata": {
    "collapsed": false
   },
   "outputs": [],
   "source": [
    "In [40]: # Une matrice diagonale\n",
    "    ...: diag([1,2,3])\n",
    "Out[40]:\n",
    "array([[1, 0, 0],\n",
    "       [0, 2, 0],\n",
    "       [0, 0, 3]])"
   ]
  },
  {
   "cell_type": "code",
   "execution_count": 30,
   "metadata": {
    "collapsed": false
   },
   "outputs": [],
   "source": [
    "In [41]: # Diagonale avec décalage de la diagonale principale\n",
    "    ...: diag([1,2,3], k=3)\n",
    "Out[41]:\n",
    "array([[0, 0, 0, 1, 0, 0],\n",
    "       [0, 0, 0, 0, 2, 0],\n",
    "       [0, 0, 0, 0, 0, 3],\n",
    "       [0, 0, 0, 0, 0, 0],\n",
    "       [0, 0, 0, 0, 0, 0],\n",
    "       [0, 0, 0, 0, 0, 0]])"
   ]
  },
  {
   "cell_type": "markdown",
   "metadata": {},
   "source": [
    "**Fonctions `zeros()` et `ones()`:**"
   ]
  },
  {
   "cell_type": "code",
   "execution_count": 31,
   "metadata": {
    "collapsed": false
   },
   "outputs": [],
   "source": [
    "In [42]: zeros((3,3))\n",
    "Out[42]:\n",
    "array([[0., 0., 0.],\n",
    "       [0., 0., 0.],\n",
    "       [0., 0., 0.]])"
   ]
  },
  {
   "cell_type": "code",
   "execution_count": 32,
   "metadata": {
    "collapsed": false
   },
   "outputs": [],
   "source": [
    "In [43]: ones((3,3))\n",
    "Out[43]:\n",
    "array([[1., 1., 1.],\n",
    "       [1., 1., 1.],\n",
    "       [1., 1., 1.]])"
   ]
  },
  {
   "cell_type": "markdown",
   "metadata": {},
   "source": [
    "## Lecture et écriture de données\n",
    "\n",
    "### Écriture de données\n",
    "\n",
    "Le module `numpy` contient une fonction très pratique, `savetxt`, permettant d’enregistrer des données tabulaires. Les données doivent être stockées dans un tableau numpy à deux dimensions. La fonction `savetxt` permet de contrôler le format des nombres dans chaque colonne (`fmt`), un en-tête peut être ajouté (`header`) et les lignes d'en-tête commencent par un caractère de commentaire (`comment`).\n",
    "\n",
    "**Exemple.**\n",
    "\n",
    "\n",
    "Pour stoker les valeurs de $cos(x)$ avec $x \\in [0, 2 \\pi]$ dans un fichier *cosinus.dat*, le code est comme ci-dessous:"
   ]
  },
  {
   "cell_type": "code",
   "execution_count": 33,
   "metadata": {
    "collapsed": false
   },
   "outputs": [],
   "source": [
    "'''Créer un tableau à deux dimensions de\n",
    "[x, cos (x)] dans chaque ligne'''\n",
    "import numpy as np\n",
    "x = np.linspace(0, 2*np.pi, 200) # 200 valeurs de x\n",
    "# un tableau 2 colonnes 200 lignes\n",
    "data = np.array([x, np.cos(x)]).transpose()\n",
    "\n",
    "# Écrire un tableau de données dans un fichier sous forme de tableau\n",
    "np.savetxt('cosinus.dat', data, fmt=['%.2f', '%.4f'],\n",
    "           header='x   cos(x)', comments='#')"
   ]
  },
  {
   "cell_type": "markdown",
   "metadata": {},
   "source": [
    "Le fichier *cosinus.dat* est créé dans le répertoire de travail:"
   ]
  },
  {
   "cell_type": "markdown",
   "metadata": {},
   "source": [
    "        # x   cos(x)\n",
    "        0.00 1.0000\n",
    "        0.03 0.9995\n",
    "        0.06 0.9980\n",
    "        0.09 0.9955\n",
    "        0.13 0.9920\n",
    "        0.16 0.9876\n",
    "        0.19 0.9821\n",
    "        0.22 0.9757\n",
    "        0.25 0.9683\n",
    "        ...  ......\n",
    "        ...  ......\n"
   ]
  },
  {
   "cell_type": "markdown",
   "metadata": {},
   "source": [
    "### Lecture de données\n",
    "\n",
    "Les données du fichier *cosinus.dat* peuvent être lues dans un tableau `numpy` par la fonction `loadtxt` (vous pouvez utiliser la commande `help(loadtxt)` dans le notebook pour comprendre l'utilité des arguments entre les parenthèse):"
   ]
  },
  {
   "cell_type": "code",
   "execution_count": 34,
   "metadata": {
    "collapsed": false
   },
   "outputs": [],
   "source": [
    "\n",
    "In [51]: data = np.loadtxt('cosinus.dat', comments='#')\n",
    "    ...: data\n",
    "Out[51]:\n",
    "array([[ 0.    ,  1.    ],\n",
    "       [ 0.03  ,  0.9995],\n",
    "       [ 0.06  ,  0.998 ],\n",
    "       [ 0.09  ,  0.9955],\n",
    "       [ 0.13  ,  0.992 ],\n",
    "       [ 0.16  ,  0.9876],\n",
    "       [ 0.19  ,  0.9821],\n",
    "       [ 0.22  ,  0.9757],\n",
    "       [ 0.25  ,  0.9683],\n",
    "       [ 0.28  ,  0.9599],\n",
    "       ..................\n",
    "       ..................\n",
    "       ..................\n",
    "       [ 6.22  ,  0.998 ],\n",
    "       [ 6.25  ,  0.9995],\n",
    "       [ 6.28  ,  1.    ]])"
   ]
  },
  {
   "cell_type": "markdown",
   "metadata": {},
   "source": [
    "**Notice.**\n",
    "\n",
    "Les lignes commençant par le caractère de commentaire sont ignorées lors de la lecture. L'objet `data` résultant est un tableau à deux dimensions: `data[i, j]` contient le numéro de ligne `i` et le numéro de colonne `j` dans la table, c'est-à-dire que `data[i, 0]` contiennent la valeur `x` et que `data[i, 1]` la valeur `cos(x)` dans la i-ème ligne.\n",
    "\n",
    "\n",
    "\n",
    "Nous pouvons utiliser le fichier *cosinus.dat* pour tracer la fonction $cos(x)$ comme indiqué dans le code suivant:"
   ]
  },
  {
   "cell_type": "code",
   "execution_count": 35,
   "metadata": {
    "collapsed": false
   },
   "outputs": [],
   "source": [
    "# Charger les données du fichier 'cosinus.dat'\n",
    "X, C = np.loadtxt('cosinus.dat', comments='#', unpack=True)\n",
    "# Tracer C en fonction de X\n",
    "figure(figsize=(8, 5), dpi=100)\n",
    "plt.plot(X,C)\n",
    "plt.savefig(\"figs/fonct_trig4.png\")\n",
    "plt.savefig(\"figs/fonct_trig4.pdf\")\n",
    "plt.show()"
   ]
  },
  {
   "cell_type": "markdown",
   "metadata": {},
   "source": [
    "La sortie de ce code est la [Figure](#figout:trig4).\n",
    "<!-- dom:FIGURE:[figs/fonct_trig4.png, width=500 frac=0.7] Sortie du code. <div id=\"figout:trig4\"></div> -->\n",
    "<!-- begin figure -->\n",
    "<div id=\"figout:trig4\"></div>\n",
    "\n",
    "<p>Sortie du code.</p>\n",
    "<img src=\"figs/fonct_trig4.png\" width=500>\n",
    "\n",
    "<!-- end figure -->\n",
    "\n",
    "\n",
    "\n",
    "# Bibliothèque Python de visualisation des données: `matplotlib`\n",
    "`matplotlib` (<http://matplotlib.org/>) est une excellente bibliothèque graphique 2D et 3D pour générer des graphiques scientifiques. Voici quelques-uns des nombreux avantages de cette bibliothèque:\n",
    "\n",
    "* Facile à utiliser\n",
    "\n",
    "* Prise en charge des étiquettes et des textes formatés LaTeX\n",
    "\n",
    "* Un excellent contrôle des éléments d'une figure, y compris la taille et la résolution (DPI).\n",
    "\n",
    "* Sortie de haute qualité dans de nombreux formats, y compris PNG, PDF, SVG, EPS, ...\n",
    "\n",
    "* GUI (Graphical User Interface) pour explorer interactivement les figures.\n",
    "\n",
    "## Documentation en ligne et Galerie\n",
    "Vous trouverez plus d'informations, y compris une documentation complète avec une vaste galerie d'exemples, sur le site de `mtplotlib`.\n",
    "\n",
    "De nombreux utilisateurs de `matplotlib` sont souvent confrontés à la question:\n",
    "> Je veux tracer les courbes de deux fonctions ($f$ te $g$) **ressemblant** à une troisième ($h$)?\n",
    "\n",
    "\n",
    "\n",
    "\n",
    " Je souhaite bonne chance à ceux qui désirent obtenir rapidement une réponse, même avec l'aide de **google**!. C'est pourquoi la **galerie de matplotlib** (<http://matplotlib.org/gallery.html>) est si utile, car elle montre la variété des possibilités. Ainsi, vous pouvez parcourir la galerie, cliquer sur n'importe quel graphique qui comporte les éléments que vous voulez reproduire et afficher le code qui a servi à le générer. Vous deviendrez rapidement autonome, vous allez mélanger et assortir différents composants pour produire votre propre chef-d’œuvre!\n",
    "\n",
    "### Guide de Démarrage\n",
    "\n",
    "L'exemple ci-dessous montre comment, de manière très simple, représenter graphiquement la fonction $f(x) = y = x$."
   ]
  },
  {
   "cell_type": "code",
   "execution_count": 36,
   "metadata": {
    "collapsed": false
   },
   "outputs": [],
   "source": [
    "# -*- coding: utf-8 -*-\n",
    "# importaion\n",
    "import matplotlib.pyplot as plt\n",
    "# define x\n",
    "x = [1, 3, 5, 6, 8, 10, 15]\n",
    "# define y\n",
    "y=x\n",
    "# créer un nouveau graphique\n",
    "plt.figure()\n",
    "#plot f(x)= x\n",
    "plt.plot(x, y)\n",
    "# Écrire un texte (label) sur l'axe des x\n",
    "plt.xlabel(\"X-Axis\")\n",
    "# Écrire un texte (label) sur l'axe des y\n",
    "plt.ylabel(\"Y-Axis\")\n",
    "#les graphiques ne seront affichés que lorsque vous appelez plt.show ()\n",
    "plt.show()"
   ]
  },
  {
   "cell_type": "markdown",
   "metadata": {},
   "source": [
    "<!-- dom:FIGURE:[imgs/BasicPlot1.png, width=500 frac=0.7] Fenêtre de traçage de matplotlib. <div id=\"fig:BasicPlot1\"></div> -->\n",
    "<!-- begin figure -->\n",
    "<div id=\"fig:BasicPlot1\"></div>\n",
    "\n",
    "<p>Fenêtre de traçage de matplotlib.</p>\n",
    "<img src=\"imgs/BasicPlot1.png\" width=500>\n",
    "\n",
    "<!-- end figure -->\n",
    "\n",
    "\n",
    "Le graphique (`Figure`) est le conteneur de niveau supérieur dans cette hiérarchie. C'est la fenêtre/page globale sur laquelle tout est dessiné.\n",
    "Vous pouvez avoir plusieurs figures indépendantes et les graphiques peuvent contenir plusieurs `Axes`.\n",
    "\n",
    "La plupart des tracés ont lieu sur des `Axes`. C’est effectivement la zone sur laquelle nous traçons les données et les graduations/labels/etc. qui leur sont associés. Habituellement, nous configurons un `Axes` avec un appel à `Subplot` (qui place les `Axes` sur une grille régulière). Par conséquent, dans la plupart des cas, `Axes` et `Subplot` sont synonymes (figure). Chaque `Axes` ou `Subplot` a un axe X et un axe Y. Ceux-ci contiennent les graduations, les emplacements de graduations, etc.\n",
    "\n",
    "### Vues en grille\n",
    "\n",
    "Nous avons déjà mentionné qu’une figure peut avoir plus d’un axe. Si vous voulez que vos axes soient sur un système de grille standard, il est alors plus simple d'utiliser `plt.subplot(...)` pour créer un graphique et y ajouter les axes automatiquement."
   ]
  },
  {
   "cell_type": "code",
   "execution_count": 37,
   "metadata": {
    "collapsed": false
   },
   "outputs": [],
   "source": [
    "# -*- coding: utf-8 -*-\n",
    "import matplotlib.pyplot as plt\n",
    "fig1=plt.figure(1)                # the first figure\n",
    "ax1=plt.subplot(211)             # the first subplot in the first figure\n",
    "ax1.plot([1, 2, 3])\n",
    "ax2=plt.subplot(212)             # the second subplot in the first figure\n",
    "ax2.plot([4, 5, 6])\n",
    "\n",
    "fig2=plt.figure(2)                # a second figure\n",
    "plt.plot([4, 5, 6])          # creates a subplot(111) by default\n",
    "\n",
    "fig1=plt.figure(1)                # figure 1 current; subplot(212) still current\n",
    "ax1=plt.subplot(211)             # make subplot(211) in figure1 current\n",
    "ax1.set_title('Easy as 1, 2, 3') # subplot 211 title\n",
    "plt.show()"
   ]
  },
  {
   "cell_type": "markdown",
   "metadata": {},
   "source": [
    "<!-- dom:FIGURE:[imgs/subplot1.png, width=500 frac=0.7] Vue en grille, figure(1). <div id=\"fig:subplot1\"></div> -->\n",
    "<!-- begin figure -->\n",
    "<div id=\"fig:subplot1\"></div>\n",
    "\n",
    "<p>Vue en grille, figure(1).</p>\n",
    "<img src=\"imgs/subplot1.png\" width=500>\n",
    "\n",
    "<!-- end figure -->\n",
    "\n",
    "\n",
    "<!-- dom:FIGURE:[imgs/subplot2.png, width=500 frac=0.7] Graphique unique, figure(2). <div id=\"fig:subplot2\"></div> -->\n",
    "<!-- begin figure -->\n",
    "<div id=\"fig:subplot2\"></div>\n",
    "\n",
    "<p>Graphique unique, figure(2).</p>\n",
    "<img src=\"imgs/subplot2.png\" width=500>\n",
    "\n",
    "<!-- end figure -->\n",
    "\n",
    "\n",
    "### Commandes de texte de base\n",
    "\n",
    "Les commandes suivantes permettent de créer du texte dans l'interface `pyplot`:\n",
    "* `text()` - ajoute du texte à un emplacement quelconque sur les axes; `matplotlib.axes.Axes.text()`.\n",
    "\n",
    "* `xlabel()` - ajoute une étiquette à l'axe des x; `matplotlib.axes.Axes.set_xlabel()`\n",
    "\n",
    "* `ylabel()` - ajoute une étiquette à l'axe des y; `matplotlib.axes.Axes.set_ylabel()`\n",
    "\n",
    "* `title()` - ajoute un titre aux Axes; `matplotlib.axes.Axes.set_title()`\n",
    "\n",
    "* `figtext()` - ajoute du texte à un emplacement quelconque sur la figure; `matplotlib.figure.Figure.text()`\n",
    "\n",
    "* `suptitle()` - ajoute un titre à la figure; `matplotlib.figure.Figure.suptitle()`\n",
    "\n",
    "* `annotate()` - ajoute une annotation, avec une flèche optionnelle, aux axes; `matplotlib.axes.Axes.annotate()`\n",
    "\n",
    "Toutes ces fonctions créent et renvoient une instance `matplotlib.text.Text()`, qui peut être configurée avec diverses polices et autres propriétés. L'exemple ci-dessous montre toutes ces commandes en action."
   ]
  },
  {
   "cell_type": "code",
   "execution_count": 38,
   "metadata": {
    "collapsed": false
   },
   "outputs": [],
   "source": [
    "# -*- coding: utf-8 -*-\n",
    "import matplotlib.pyplot as plt\n",
    "\n",
    "fig = plt.figure()\n",
    "fig.suptitle('bold figure suptitle', fontsize=14, fontweight='bold')\n",
    "\n",
    "ax = fig.add_subplot(111)\n",
    "fig.subplots_adjust(top=0.85)\n",
    "ax.set_title('axes title')\n",
    "\n",
    "ax.set_xlabel('xlabel')\n",
    "ax.set_ylabel('ylabel')\n",
    "\n",
    "ax.text(3, 8, 'boxed italics text in data coords', style='italic',\n",
    "        bbox={'facecolor':'red', 'alpha':0.5, 'pad':10})\n",
    "\n",
    "ax.text(2, 6, r'an equation: $E=mc^2$', fontsize=15)\n",
    "\n",
    "ax.text(3, 2, u'unicode: Institut f\\374r Festk\\366rperphysik')\n",
    "\n",
    "ax.text(0.95, 0.01, 'colored text in axes coords',\n",
    "        verticalalignment='bottom', horizontalalignment='right',\n",
    "        transform=ax.transAxes,\n",
    "        color='green', fontsize=15)\n",
    "\n",
    "\n",
    "ax.plot([2], [1], 'o')\n",
    "ax.annotate('annotate', xy=(2, 1), xytext=(3, 4),\n",
    "            arrowprops=dict(facecolor='black', shrink=0.05))\n",
    "\n",
    "ax.axis([0, 10, 0, 10])\n",
    "\n",
    "plt.show()"
   ]
  },
  {
   "cell_type": "markdown",
   "metadata": {},
   "source": [
    "<!-- dom:FIGURE:[imgs/BasicText.png, width=500 frac=0.7] Texte de base. <div id=\"fig:BasicText\"></div> -->\n",
    "<!-- begin figure -->\n",
    "<div id=\"fig:BasicText\"></div>\n",
    "\n",
    "<p>Texte de base.</p>\n",
    "<img src=\"imgs/BasicText.png\" width=500>\n",
    "\n",
    "<!-- end figure -->\n",
    "\n",
    "\n",
    "### Styles de lignes et de marqueurs\n",
    "\n",
    "Pour changer la largeur de ligne, nous pouvons utiliser l'argument de mot-clé `linewidth` ou `lw`, et le style de ligne peut être sélectionné à l'aide des arguments de mot-clé `linestyle` ou `ls`:"
   ]
  },
  {
   "cell_type": "code",
   "execution_count": 39,
   "metadata": {
    "collapsed": false
   },
   "outputs": [],
   "source": [
    "# -*- coding: utf-8 -*-\n",
    "import matplotlib.pyplot as plt\n",
    "import numpy as np\n",
    "x = np.linspace(0, 5, 10)\n",
    "fig, ax = plt.subplots()\n",
    "\n",
    "ax.plot(x, x+1, color=\"blue\", linewidth=0.25)\n",
    "ax.plot(x, x+2, color=\"blue\", linewidth=0.50)\n",
    "ax.plot(x, x+3, color=\"blue\", linewidth=1.00)\n",
    "ax.plot(x, x+4, color=\"blue\", linewidth=2.00)\n",
    "\n",
    "# possible linestype options '-', '-.', ':', 'steps'\n",
    "ax.plot(x, x+5, color=\"red\", lw=2, linestyle='-')\n",
    "ax.plot(x, x+6, color=\"red\", lw=2, ls='-.')\n",
    "ax.plot(x, x+7, color=\"red\", lw=2, ls=':')\n",
    "\n",
    "# custom dash\n",
    "line, = ax.plot(x, x+8, color=\"black\", lw=1.50)\n",
    "line.set_dashes([5, 10, 15, 10]) # format: line length, space length, ...\n",
    "\n",
    "# possible marker symbols: marker = '+', 'o', '*', 's', ',', '.', '1', '2', '3', '4', ...\n",
    "ax.plot(x, x+ 9, color=\"green\", lw=2, ls='-.', marker='+')\n",
    "ax.plot(x, x+10, color=\"green\", lw=2, ls='-.', marker='o')\n",
    "ax.plot(x, x+11, color=\"green\", lw=2, ls='-.', marker='s')\n",
    "ax.plot(x, x+12, color=\"green\", lw=2, ls='-.', marker='1')\n",
    "\n",
    "# marker size and color\n",
    "ax.plot(x, x+13, color=\"purple\", lw=1, ls='-', marker='o', markersize=2)\n",
    "ax.plot(x, x+14, color=\"purple\", lw=1, ls='-', marker='o', markersize=4)\n",
    "ax.plot(x, x+15, color=\"purple\", lw=1, ls='-', marker='o', markersize=8, markerfacecolor=\"red\")\n",
    "ax.plot(x, x+16, color=\"purple\", lw=1, ls='-', marker='s', markersize=8, \n",
    "        markerfacecolor=\"yellow\", markeredgewidth=2, markeredgecolor=\"blue\")\n",
    "# make a title for the subplot\n",
    "ax.set_title('\"ax.plot(x, y, ...)\": Lines and/or markers', fontsize=16, weight='bold')\n",
    "# make x and y axis label and set their font size and weight\n",
    "ax.set_xlabel(\"X-Axis\", fontsize=12, weight='bold')\n",
    "ax.set_ylabel(\"Y-Axis\", fontsize=12, weight='bold')\n",
    "plt.show()"
   ]
  },
  {
   "cell_type": "markdown",
   "metadata": {},
   "source": [
    "<!-- dom:FIGURE:[imgs/LineandMarkerStyles.png, width=500 frac=0.7] Styles de lignes et de marqueurs. <div id=\"fig:LineandMarkerStyles\"></div> -->\n",
    "<!-- begin figure -->\n",
    "<div id=\"fig:LineandMarkerStyles\"></div>\n",
    "\n",
    "<p>Styles de lignes et de marqueurs.</p>\n",
    "<img src=\"imgs/LineandMarkerStyles.png\" width=500>\n",
    "\n",
    "<!-- end figure -->\n",
    "\n",
    "\n",
    "### Colormap: Tracés contour, Imshow et 3D\n",
    "\n",
    "Voir la documentation de matplotlib colormaps <http://matplotlib.org/users/colormaps.html>.\n",
    "\n",
    " * **Tracés contour :**"
   ]
  },
  {
   "cell_type": "code",
   "execution_count": 40,
   "metadata": {
    "collapsed": false
   },
   "outputs": [],
   "source": [
    "# -*- coding: utf-8 -*-\n",
    "import numpy as np\n",
    "import matplotlib.pyplot as plt\n",
    "\n",
    "def f(x,y):\n",
    "    return (1 - x / 2 + x**5 + y**3) * np.exp(-x**2 -y**2)\n",
    "\n",
    "n = 256\n",
    "x = np.linspace(-3, 3, n)\n",
    "y = np.linspace(-3, 3, n)\n",
    "X,Y = np.meshgrid(x, y)\n",
    "\n",
    "plt.axes([0.025, 0.025, 0.95, 0.95])\n",
    "\n",
    "plt.contourf(X, Y, f(X, Y), 8, alpha=.75, cmap=plt.cm.gray)\n",
    "C = plt.contour(X, Y, f(X, Y), 8, colors='black', linewidth=.5)\n",
    "plt.clabel(C, inline=1, fontsize=10)\n",
    "\n",
    "plt.xticks(())\n",
    "plt.yticks(())\n",
    "plt.show()"
   ]
  },
  {
   "cell_type": "markdown",
   "metadata": {},
   "source": [
    "<!-- dom:FIGURE:[imgs/ContourPlot.png, width=500 frac=0.7] Exemple de tracé de contour. <div id=\"fig:ContourPlot\"></div> -->\n",
    "<!-- begin figure -->\n",
    "<div id=\"fig:ContourPlot\"></div>\n",
    "\n",
    "<p>Exemple de tracé de contour.</p>\n",
    "<img src=\"imgs/ContourPlot.png\" width=500>\n",
    "\n",
    "<!-- end figure -->\n",
    "\n",
    "\n",
    "* **Imshow (Image pixelisée) :**"
   ]
  },
  {
   "cell_type": "code",
   "execution_count": 41,
   "metadata": {
    "collapsed": false
   },
   "outputs": [],
   "source": [
    "# -*- coding: utf-8 -*-\n",
    "import numpy as np\n",
    "import matplotlib.pyplot as plt\n",
    "\n",
    "def f(x, y):\n",
    "    return (1 - x / 2 + x ** 5 + y ** 3 ) * np.exp(-x ** 2 - y ** 2)\n",
    "\n",
    "n = 10\n",
    "x = np.linspace(-3, 3, 3.5 * n)\n",
    "y = np.linspace(-3, 3, 3.0 * n)\n",
    "X, Y = np.meshgrid(x, y)\n",
    "Z = f(X, Y)\n",
    "\n",
    "plt.axes([0.025, 0.025, 0.95, 0.95])\n",
    "plt.imshow(Z, interpolation='nearest', cmap='gray', origin='lower')\n",
    "plt.colorbar(shrink=.92)\n",
    "\n",
    "plt.xticks(())\n",
    "plt.yticks(())\n",
    "plt.show()"
   ]
  },
  {
   "cell_type": "markdown",
   "metadata": {},
   "source": [
    "<!-- dom:FIGURE:[imgs/Imshow.png, width=500 frac=0.7] Exemple d'image pixelisée. <div id=\"fig:CImshow\"></div> -->\n",
    "<!-- begin figure -->\n",
    "<div id=\"fig:CImshow\"></div>\n",
    "\n",
    "<p>Exemple d'image pixelisée.</p>\n",
    "<img src=\"imgs/Imshow.png\" width=500>\n",
    "\n",
    "<!-- end figure -->\n",
    "\n",
    "\n",
    "* **Tracé en 3D :**"
   ]
  },
  {
   "cell_type": "code",
   "execution_count": 42,
   "metadata": {
    "collapsed": false
   },
   "outputs": [],
   "source": [
    "# -*- coding: utf-8 -*-\n",
    "import numpy as np\n",
    "import matplotlib.pyplot as plt\n",
    "from mpl_toolkits.mplot3d import Axes3D\n",
    "\n",
    "fig = plt.figure()\n",
    "ax = Axes3D(fig)\n",
    "X = np.arange(-4, 4, 0.25)\n",
    "Y = np.arange(-4, 4, 0.25)\n",
    "X, Y = np.meshgrid(X, Y)\n",
    "R = np.sqrt(X ** 2 + Y ** 2)\n",
    "Z = np.sin(R)\n",
    "\n",
    "ax.plot_surface(X, Y, Z, rstride=1, cstride=1, cmap=plt.cm.gray)\n",
    "ax.contourf(X, Y, Z, zdir='z', offset=-2, cmap=plt.cm.gray)\n",
    "ax.set_zlim(-2, 2)\n",
    "\n",
    "plt.show()"
   ]
  },
  {
   "cell_type": "markdown",
   "metadata": {},
   "source": [
    "<!-- dom:FIGURE:[imgs/Plot3D.png, width=500 frac=0.7] Exemple de tracé en 3D. <div id=\"fig:3D\"></div> -->\n",
    "<!-- begin figure -->\n",
    "<div id=\"fig:3D\"></div>\n",
    "\n",
    "<p>Exemple de tracé en 3D.</p>\n",
    "<img src=\"imgs/Plot3D.png\" width=500>\n",
    "\n",
    "<!-- end figure -->\n",
    "\n",
    "\n",
    "# Bibliothèque scientifique python: `scipy`\n",
    "`scipy` (<https://www.scipy.org/>\"): `scipy` peut être considéré comme une extension de `numpy` avec un grand nombre de modules optimisés pour des calculs scientifiques spécifiques. `scipy` est la plate-forme la plus importante de Python pour le calcul scientifique. La communauté de `scipy` est un groupe bien établi et en pleine croissance de scientifiques, d’ingénieurs et de chercheurs qui utilisent, développent et promeuvent l’utilisation de Python pour le calcul scientifique, la recherche et l’éducation.\n",
    "\n",
    "## Fonctions spéciales\n",
    "Un grand nombre de fonctions mathématiques spéciales sont importantes pour de nombreux problèmes de physique informatique. SciPy fournit des implémentations d'un ensemble très complet de fonctions spéciales. Pour plus de détails, voir la liste des fonctions dans la documentation de référence à <http://docs.scipy.org/doc/scipy/reference/special.html#module-scipy.special>.\n",
    "\n",
    "### Fonctions de Bessel\n",
    "\n",
    "Le module `scipy.special` inclut un grand nombre de fonctions de Bessel. Ici, nous allons utiliser les fonctions `jn` et `yn`, qui sont les fonctions de Bessel des premier et deuxième ordres de type et de valeurs réelles. Nous incluons également la fonction `jn_zeros` et `yn_zeros` qui donne les zéros des fonctions `jn` et `yn`."
   ]
  },
  {
   "cell_type": "code",
   "execution_count": 43,
   "metadata": {
    "collapsed": false
   },
   "outputs": [],
   "source": [
    "# -*- coding: utf-8 -*-\n",
    "from scipy.special import jn, yn, jn_zeros, yn_zeros\n",
    "import matplotlib.pyplot as plt\n",
    "import numpy as np\n",
    "\n",
    "n = 0    # order\n",
    "x = 0.0\n",
    "\n",
    "# Bessel function of first kind\n",
    "print (\"J_%d(%f) = %f\" % (n, x, jn(n, x)))\n",
    "\n",
    "x = 1.0\n",
    "# Bessel function of second kind\n",
    "print (\"Y_%d(%f) = %f\" % (n, x, yn(n, x)))\n",
    "\n",
    "# zeros of Bessel functions\n",
    "n = 0 # order\n",
    "m = 4 # number of roots to compute\n",
    "print(\"zeros of Bessel functions are: \", jn_zeros(n, m))\n",
    "\n",
    "# Plot Bessel fonctions\n",
    "x = np.linspace(0, 10, 50)\n",
    "\n",
    "markers=['o', 's', '*', '+']\n",
    "lines=['-', '--', '-.', ':']\n",
    "\n",
    "fig, ax = plt.subplots()\n",
    "for n in range(4):\n",
    "    ax.plot(x, jn(n, x),ls=str(lines[n]),marker=str(markers[n]), label=r\"$J_%d(x)$\" % n)\n",
    "ax.legend()\n",
    "plt.show()"
   ]
  },
  {
   "cell_type": "markdown",
   "metadata": {},
   "source": [
    "Ce code retournera:"
   ]
  },
  {
   "cell_type": "markdown",
   "metadata": {},
   "source": [
    "        J_0(0.000000) = 1.000000\n",
    "        Y_0(1.000000) = 0.088257\n",
    "        zeros of Bessel functions are:  [  2.40482556   5.52007811   8.65372791  11.79153444]\n"
   ]
  },
  {
   "cell_type": "markdown",
   "metadata": {},
   "source": [
    "et le tracé:\n",
    "\n",
    "<!-- dom:FIGURE:[imgs/Bessel.png, width=500 frac=0.7] Fonctions de Bessel. <div id=\"fig:Bessel\"></div> -->\n",
    "<!-- begin figure -->\n",
    "<div id=\"fig:Bessel\"></div>\n",
    "\n",
    "<p>Fonctions de Bessel.</p>\n",
    "<img src=\"imgs/Bessel.png\" width=500>\n",
    "\n",
    "<!-- end figure -->\n",
    "\n",
    "\n",
    "### Intégrales de Fresnel\n",
    "\n",
    "La fonction `scipy.special.fresnel` renvoie les deux fonctions de Fresnel mais dans l'ordre (FS, FC), où FS représente l'intégrale de sinus de Fresnel et FC, l'intégrale de cosinus de Fresnel. Vous devriez faire attention à ce que vos tracés correspondent à la spirale de Cornu."
   ]
  },
  {
   "cell_type": "code",
   "execution_count": 44,
   "metadata": {
    "collapsed": false
   },
   "outputs": [],
   "source": [
    "# -*- coding: utf-8 -*-\n",
    "from scipy.special import fresnel\n",
    "from scipy import linspace\n",
    "import matplotlib.pyplot as plt\n",
    "t = linspace(-10, 10, 1000)\n",
    "FS, FC = fresnel(t)\n",
    "fig1=plt.figure(figsize=(10,5))\n",
    "ax1=plt.subplot(1, 2, 1)\n",
    "ax1.plot(FC, FS, linewidth=2)\n",
    "ax1.set_xlabel(\"C(t)\", fontsize=14, weight='bold')\n",
    "ax1.set_ylabel(\"S(t)\", fontsize=14, weight='bold')\n",
    "ax1.set_title(\"Cornu spiral\", fontsize=16, weight='bold')\n",
    "\n",
    "ax2=plt.subplot(1, 2, 2) \n",
    "ax2.plot(t, FS, ls='--',linewidth=2,label=\"S(t)\", alpha=.8)\n",
    "ax2.plot(t, FC,ls='-',linewidth=2,label=\"C(t)\", alpha=.8)\n",
    "ax2.set_xlabel(\"t\", fontsize=14, weight='bold')\n",
    "ax2.set_title(\"Fresnel integrals\", fontsize=16, weight='bold')\n",
    "plt.legend()\n",
    "plt.show()"
   ]
  },
  {
   "cell_type": "markdown",
   "metadata": {},
   "source": [
    "<!-- dom:FIGURE:[imgs/Fresnel.png, width=500 frac=0.7] Intégrales de Fresnel. <div id=\"fig:Fresnel\"></div> -->\n",
    "<!-- begin figure -->\n",
    "<div id=\"fig:Fresnel\"></div>\n",
    "\n",
    "<p>Intégrales de Fresnel.</p>\n",
    "<img src=\"imgs/Fresnel.png\" width=500>\n",
    "\n",
    "<!-- end figure -->"
   ]
  }
 ],
 "metadata": {},
 "nbformat": 4,
 "nbformat_minor": 2
}
