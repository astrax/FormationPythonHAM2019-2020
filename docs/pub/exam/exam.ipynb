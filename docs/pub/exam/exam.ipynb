{
 "cells": [
  {
   "cell_type": "markdown",
   "metadata": {},
   "source": [
    "<!-- dom:TITLE: Contrôle continu: Devoir Surveillé N°2 -->\n",
    "# Contrôle continu: Devoir Surveillé N°2\n",
    "<!-- dom:AUTHOR: Ahmed Ammar Email:ahmed.ammar@fst.utm.tn at Institut Préparatoire aux Études Scientifiques et Techniques, Université de Carthage. -->\n",
    "<!-- Author: -->  \n",
    "**Ahmed Ammar** (email: `ahmed.ammar@fst.utm.tn`), Institut Préparatoire aux Études Scientifiques et Techniques, Université de Carthage.\n",
    "\n",
    "Date: **11 Décembre 2019**\n",
    "\n",
    "<!-- FIGURE: [imgs/header2, width=700 frac=1] -->\n",
    "\n",
    "\n",
    "\n",
    "<!-- --- begin exercise --- -->\n",
    "\n",
    "## Exercise 1: Équation de récurrence (3 points)\n",
    "\n",
    "Soit la relation de récurrence suivante:\n",
    "$$x^{k+2} = 2x^{k+1} - 3x^{k} \\ pour \\ k \\ge 0 \\ et \\ x^0 =1, \\  x^1 =2$$\n",
    "Calculer et afficher les 10 premiers termes de cette relation sous la forme :"
   ]
  },
  {
   "cell_type": "markdown",
   "metadata": {},
   "source": [
    "        x^2 = 1\n",
    "        x^3 = -4\n",
    "        x^4 = -11\n",
    "        x^5 = -10\n",
    "        x^6 = 13\n",
    "        x^7 = 56\n",
    "        x^8 = 73\n",
    "        x^9 = -22\n",
    "        x^10 = -263\n",
    "        x^11 = -460\n"
   ]
  },
  {
   "cell_type": "markdown",
   "metadata": {},
   "source": [
    "<!-- --- begin solution of exercise --- -->\n",
    "**Solution.**\n",
    "Le programme qui calcule et affiche les 10 premiers termes de la relation peut s’écrire comme suit:"
   ]
  },
  {
   "cell_type": "code",
   "execution_count": 1,
   "metadata": {
    "collapsed": false
   },
   "outputs": [],
   "source": [
    "x0 = 1\n",
    "x1 = 2\n",
    "for k in range(10):\n",
    " x = 2*x1 - 3*x0\n",
    " x0 = x1\n",
    " x1 = x\n",
    " print(\"x^{} = {}\".format(k+2,x))"
   ]
  },
  {
   "cell_type": "markdown",
   "metadata": {},
   "source": [
    "<!-- --- end solution of exercise --- -->\n",
    "\n",
    "<!-- --- end exercise --- -->\n",
    "\n",
    "\n",
    "\n",
    "\n",
    "<!-- --- begin exercise --- -->\n",
    "\n",
    "## Exercise 2: Calculer une somme (3 points)\n",
    "\n",
    "\n",
    "**a)**\n",
    "Le code suivant est supposé calculer la somme $s = \\sum_{k=1}^M {1\\over k}$"
   ]
  },
  {
   "cell_type": "markdown",
   "metadata": {},
   "source": [
    "```Python\n",
    "        s = 0;  k = 1;  M = 100\n",
    "        while k < M:\n",
    "            s += 1/k\n",
    "        print(s)\n",
    "```"
   ]
  },
  {
   "cell_type": "markdown",
   "metadata": {},
   "source": [
    "Ce programme ne fonctionne pas correctement. Quelles sont les deux erreurs? (si vous essayez d'exécuter le programme, rien ne se passera à l'écran). Écrivez un programme correct.\n",
    "\n",
    "\n",
    "<!-- --- begin solution of exercise --- -->\n",
    "**Solution.**\n",
    "Le programme correct est:"
   ]
  },
  {
   "cell_type": "code",
   "execution_count": 2,
   "metadata": {
    "collapsed": false
   },
   "outputs": [],
   "source": [
    "s = 0.;  k = 1;  M = 100\n",
    "while k <= M:\n",
    "    s += 1/k\n",
    "    k+=1\n",
    "print(s)"
   ]
  },
  {
   "cell_type": "markdown",
   "metadata": {},
   "source": [
    "<!-- --- end solution of exercise --- -->\n",
    "\n",
    "**b)**\n",
    "Réécrivez la version corrigée du programme en **a)** en utilisant une boucle `for` sur `k` valeurs au lieu d'une boucle `while`.\n",
    "\n",
    "\n",
    "<!-- --- begin solution of exercise --- -->\n",
    "**Solution.**\n",
    "La version corrigée du programme dans **a)** à l'aide d'une boucle `for` est la suivante:"
   ]
  },
  {
   "cell_type": "code",
   "execution_count": 3,
   "metadata": {
    "collapsed": false
   },
   "outputs": [],
   "source": [
    "s = 0.;  M = 100\n",
    "for k in range(1,M+1):\n",
    "    s += 1/k\n",
    "print(s)"
   ]
  },
  {
   "cell_type": "markdown",
   "metadata": {},
   "source": [
    "<!-- --- end solution of exercise --- -->\n",
    "\n",
    "<!-- --- end exercise --- -->\n",
    "\n",
    "\n",
    "\n",
    "\n",
    "<!-- --- begin exercise --- -->\n",
    "\n",
    "## Exercise 3: Générer des coordonnées équidistantes (4 points)\n",
    "<div id=\"ex:coordonnee\"></div>\n",
    "\n",
    "Nous voulons générer $n + 1$ coordonnées $x$ équidistantes dans $[a, b]$. Stocker, pour `a = -2`; `b = 3` et `n= 20` les coordonnées $x$ dans une liste `xList`.\n",
    "\n",
    "\n",
    "**a)**\n",
    "Définir toutes les variables puis utiliser une boucle **for** et ajouter chaque coordonnée à la liste `xList` (*initialement vide*).\n",
    "\n",
    "<!-- --- begin hint in exercise --- -->\n",
    "\n",
    "**Hint.**\n",
    "Avec $n$ intervalles, correspondant à $n + 1$ points, dans $[a, b]$, chaque intervalle a une longueur $h = (b-a) / n$. Les coordonnées peuvent alors être générées par la formule `xi = a + i * h`; $i = 0,…, n$.\n",
    "\n",
    "<!-- --- end hint in exercise --- -->\n",
    "\n",
    "\n",
    "<!-- --- begin solution of exercise --- -->\n",
    "**Solution.**\n",
    "La liste `xList` sera remplis par les valeurs de `xi` comme suivant:"
   ]
  },
  {
   "cell_type": "code",
   "execution_count": 4,
   "metadata": {
    "collapsed": false
   },
   "outputs": [],
   "source": [
    "n =20\n",
    "a, b = -2, 3\n",
    "h = (b - a) / n\n",
    "xList = []\n",
    "for i in range(n+1):\n",
    "    xi  = a + i * h\n",
    "    xList.append(xi)"
   ]
  },
  {
   "cell_type": "markdown",
   "metadata": {},
   "source": [
    "<!-- --- end solution of exercise --- -->\n",
    "\n",
    "**b)**\n",
    "Utiliser une liste de compréhension comme une implémentation alternative.\n",
    "\n",
    "\n",
    "<!-- --- begin solution of exercise --- -->\n",
    "**Solution.**\n",
    "Nous pouvons également remplir `xList` par une liste de compréhension:"
   ]
  },
  {
   "cell_type": "code",
   "execution_count": 5,
   "metadata": {
    "collapsed": false
   },
   "outputs": [],
   "source": [
    "xList = [a + i * h for i in range(n+1)]"
   ]
  },
  {
   "cell_type": "markdown",
   "metadata": {},
   "source": [
    "<!-- --- end solution of exercise --- -->\n",
    "\n",
    "**c)**\n",
    "Vectoriser la liste résultante `xList` en un tableau `numpy` xVect. N'oubliez pas **d'importer** d'abord la fonction qui transforme les listes en tableaux à partir de `numpy`.\n",
    "\n",
    "\n",
    "<!-- --- begin solution of exercise --- -->\n",
    "**Solution.**\n",
    "La fonction `numpy.array()` transforme les listes en tableaux `numpy`:"
   ]
  },
  {
   "cell_type": "code",
   "execution_count": 6,
   "metadata": {
    "collapsed": false
   },
   "outputs": [],
   "source": [
    "from numpy import array\n",
    "xVect = array(xList)"
   ]
  },
  {
   "cell_type": "markdown",
   "metadata": {},
   "source": [
    "<!-- --- end solution of exercise --- -->\n",
    "\n",
    "<!-- --- end exercise --- -->\n",
    "\n",
    "\n",
    "\n",
    "\n",
    "<!-- --- begin exercise --- -->\n",
    "\n",
    "## Exercise 4: Implémenter une fonction gaussienne (5 points)\n",
    "\n",
    "\n",
    "**a)**\n",
    "Créer la fonction: `gauss(x, m = 0, s = 1)`, qui modélise la gaussienne:"
   ]
  },
  {
   "cell_type": "markdown",
   "metadata": {},
   "source": [
    "<!-- Equation labels as ordinary links -->\n",
    "<div id=\"_auto1\"></div>\n",
    "\n",
    "$$\n",
    "\\begin{equation}\n",
    "f(x) =\n",
    "{1\\over\\sqrt{2\\pi }\\, s}\n",
    "\\exp{\\left[-\\frac{1}{2}\\left({x-m\\over s}\\right)^2\\right]}\n",
    "\\label{_auto1} \\tag{1}\n",
    "\\end{equation}\n",
    "$$"
   ]
  },
  {
   "cell_type": "markdown",
   "metadata": {},
   "source": [
    "<!-- --- begin solution of exercise --- -->\n",
    "**Solution.**\n",
    "La fonction `gauss(x, m = 0, s = 1)` est la suivante:"
   ]
  },
  {
   "cell_type": "code",
   "execution_count": 7,
   "metadata": {
    "collapsed": false
   },
   "outputs": [],
   "source": [
    "from pylab import *\n",
    "def gauss(x, m = 0, s = 1):\n",
    "    A = 1/sqrt(2*pi*s)\n",
    "    B = -0.5 *((x-m)/s)**2\n",
    "    return A*exp(B)"
   ]
  },
  {
   "cell_type": "markdown",
   "metadata": {},
   "source": [
    "<!-- --- end solution of exercise --- -->\n",
    "\n",
    "**b)**\n",
    "Créer un tableau `x` à l'aide de la fonction `linspace`, du module `numpy`, pour `100` valeurs `x` uniformément espacées dans [-10, 10].\n",
    "\n",
    "\n",
    "<!-- --- begin solution of exercise --- -->\n",
    "**Solution.**\n",
    "Pour avoir `100` valeurs `x` uniformément espacés dans [-10, 10], on écrit:"
   ]
  },
  {
   "cell_type": "code",
   "execution_count": 8,
   "metadata": {
    "collapsed": false
   },
   "outputs": [],
   "source": [
    "x = linspace(-10, 10, 100)"
   ]
  },
  {
   "cell_type": "markdown",
   "metadata": {},
   "source": [
    "<!-- --- end solution of exercise --- -->\n",
    "\n",
    "**c)**\n",
    "Écrire les instructions pour tracer le graphique ci-dessous à l’aide de la bibliothèque `matplotlib`.\n",
    "<!-- dom:FIGURE: [imgs/gaussian.png, width=500 frac=0.7] -->\n",
    "<!-- begin figure -->\n",
    "\n",
    "<p></p>\n",
    "<img src=\"imgs/gaussian.png\" width=500>\n",
    "\n",
    "<!-- end figure -->\n",
    "\n",
    "\n",
    "\n",
    "<!-- --- begin solution of exercise --- -->\n",
    "**Solution.**\n",
    "Le programme qui donne le graphique de la fonction gaussienne est:"
   ]
  },
  {
   "cell_type": "code",
   "execution_count": 9,
   "metadata": {
    "collapsed": false
   },
   "outputs": [],
   "source": [
    "plt.plot(x, gauss(x, m = 0, s = 1), 'k-', label = 'm = 0, s = 1')\n",
    "plt.plot(x, gauss(x, m = -2, s = 2), 'k:', label = 'm = -2, s = 2')\n",
    "plt.plot(x, gauss(x, m = 2, s = 2), 'k--', label = 'm = 2, s = 2')\n",
    "plt.title(\"fonction gaussienne\", fontweight = 'bold')\n",
    "plt.xlabel(\"x\")\n",
    "plt.ylabel(\"f(x)\")\n",
    "plt.legend()\n",
    "plt.show()"
   ]
  },
  {
   "cell_type": "markdown",
   "metadata": {},
   "source": [
    "<!-- --- end solution of exercise --- -->\n",
    "\n",
    "<!-- --- end exercise --- -->\n",
    "\n",
    "\n",
    "\n",
    "\n",
    "<!-- --- begin exercise --- -->\n",
    "\n",
    "## Exercise 5: Tracer les 6 premiers polynômes de Legendre (5 points)\n",
    "\n",
    "En mathématiques et en physique théorique, les polynômes de Legendre constituent l'exemple le plus simple d'une suite de polynômes orthogonaux. Ce sont des solutions polynomiales $P_n(x)$ de l'équation différentielle de Legendre :"
   ]
  },
  {
   "cell_type": "markdown",
   "metadata": {},
   "source": [
    "$$\n",
    "\\frac{d}{d x}\\left[(1-x^{2}){\\frac {d }{d x}}P_{n}(x) \\right]+ n(n+1) P_{n}(x)=0\n",
    "$$"
   ]
  },
  {
   "cell_type": "markdown",
   "metadata": {},
   "source": [
    "Les polynômes de Legendre sont définis uniquement pour $x \\in [-1 ; 1]$ puisque les points $x = \\pm 1$ sont des points singuliers réguliers de cette équation différentielle.\n",
    "\n",
    "Les 6 premiers polynômes de Legendre sont :"
   ]
  },
  {
   "cell_type": "markdown",
   "metadata": {},
   "source": [
    "$$\n",
    "\\begin{eqnarray*}\n",
    "P_{0}(x)&=&1 \\\\\\\n",
    "P_{1}(x)&=&x \\\\\\\n",
    "P_{2}(x)&=&\\frac{1}{2}(3x^{2}-1)\\\\\\\n",
    "P_{3}(x)&=&\\frac{1}{2}(5x^{3}-3x)\\\\\\\n",
    "P_{4}(x)&=&\\frac{1}{8}(35x^{4}-30x^{2}+3)\\\\\\\n",
    "P_{5}(x)&=&\\frac{1}{8}(63x^{5}-70x^{3}+15x)\n",
    "\\end{eqnarray*}\n",
    "$$"
   ]
  },
  {
   "cell_type": "markdown",
   "metadata": {},
   "source": [
    "**a)**\n",
    "Définir les fonctions `P0(x)`, `P1(x)`, `P2(x)`, `P3(x)`, `P4(x)` et `P5(x)` qui retournent les valeurs des 6 premiers polynômes de Legendre.\n",
    "\n",
    "\n",
    "<!-- --- begin solution of exercise --- -->\n",
    "**Solution.**\n",
    "Les fonctions qui calculent les 6 premiers polynômes de Legendre sont les suivantes:"
   ]
  },
  {
   "cell_type": "code",
   "execution_count": 10,
   "metadata": {
    "collapsed": false
   },
   "outputs": [],
   "source": [
    "%matplotlib inline\n",
    "\n",
    "import numpy as np\n",
    "import matplotlib.pyplot as plt\n",
    "def P0(x):\n",
    "    return np.ones(len(x))\n",
    "def P1(x):\n",
    "    return x\n",
    "def P2(x):\n",
    "    return 1/2*(3*x**2 - 1)\n",
    "def P3(x):\n",
    "    return 1/2*(5*x**3 - 3*x)\n",
    "def P4(x):\n",
    "    return 1/8*(35*x**4 - 30*x**2 + 3)\n",
    "def P5(x):\n",
    "    return 1/8*(63*x**5 - 70*x**3 + 15*x)"
   ]
  },
  {
   "cell_type": "markdown",
   "metadata": {},
   "source": [
    "<!-- --- end solution of exercise --- -->\n",
    "\n",
    "**b)**\n",
    "Créer un tableau `x` à l'aide de la fonction `linspace`, du module `numpy`, pour `100` valeurs `x` uniformément espacées dans [-1, 1].\n",
    "\n",
    "\n",
    "<!-- --- begin solution of exercise --- -->\n",
    "**Solution.**\n",
    "La variable x est définie comme suivant:"
   ]
  },
  {
   "cell_type": "code",
   "execution_count": 11,
   "metadata": {
    "collapsed": false
   },
   "outputs": [],
   "source": [
    "x=np.linspace(-1,1,100)"
   ]
  },
  {
   "cell_type": "markdown",
   "metadata": {},
   "source": [
    "<!-- --- end solution of exercise --- -->\n",
    "\n",
    "**c)**\n",
    "Tracer ces polynômes sur le même graphique en utilisant la bibliothèque `matplotlib`.\n",
    "\n",
    "\n",
    "<!-- --- begin solution of exercise --- -->\n",
    "**Solution.**\n",
    "Les instructions pour le traçage des courbes sont les suivantes:"
   ]
  },
  {
   "cell_type": "code",
   "execution_count": 12,
   "metadata": {
    "collapsed": false
   },
   "outputs": [],
   "source": [
    "plt.figure()\n",
    "plt.plot(x,P0(x),label='P0')\n",
    "plt.plot(x,P1(x),label='P1')\n",
    "plt.plot(x,P2(x),label='P2')\n",
    "plt.plot(x,P3(x),label='P3')\n",
    "plt.plot(x,P4(x),label='P4')\n",
    "plt.plot(x,P5(x),label='P5')\n",
    "plt.title('Les six premiers polynômes de Legendre', weight = \"bold\")\n",
    "plt.xlabel(\"x\")\n",
    "plt.ylabel(\"P(x)\")\n",
    "plt.legend()\n",
    "plt.grid()\n",
    "plt.show()"
   ]
  },
  {
   "cell_type": "markdown",
   "metadata": {},
   "source": [
    "**Notice.**\n",
    "\n",
    "Voici l'ensemble des solutions des questions a), b) et c) dans un script `PolyLegendre.py`:"
   ]
  },
  {
   "cell_type": "code",
   "execution_count": 13,
   "metadata": {
    "collapsed": false
   },
   "outputs": [],
   "source": [
    "## NOM DU PROGRAMME: PolyLegendre.py\n",
    "#% IMPORTATION\n",
    "import numpy as np\n",
    "import matplotlib.pyplot as plt\n",
    "def P0(x):\n",
    "    return np.ones(len(x))\n",
    "def P1(x):\n",
    "    return x\n",
    "def P2(x):\n",
    "    return 1/2*(3*x**2 - 1)\n",
    "def P3(x):\n",
    "    return 1/2*(5*x**3 - 3*x)\n",
    "def P4(x):\n",
    "    return 1/8*(35*x**4 - 30*x**2 + 3)\n",
    "def P5(x):\n",
    "    return 1/8*(63*x**5 - 70*x**3 + 15*x)\n",
    "x=np.linspace(-1,1,100)\n",
    "plt.figure()\n",
    "plt.plot(x,P0(x),label='P0')\n",
    "plt.plot(x,P1(x),label='P1')\n",
    "plt.plot(x,P2(x),label='P2')\n",
    "plt.plot(x,P3(x),label='P3')\n",
    "plt.plot(x,P4(x),label='P4')\n",
    "plt.plot(x,P5(x),label='P5')\n",
    "plt.title(u'Les six premiers polynômes de Legendre', weight = \"bold\")\n",
    "plt.xlabel(\"x\")\n",
    "plt.ylabel(\"P(x)\")\n",
    "plt.legend()\n",
    "plt.grid()\n",
    "plt.savefig(\"legendre.png\"); plt.savefig(\"legendre.pdf\")\n",
    "plt.show()"
   ]
  },
  {
   "cell_type": "markdown",
   "metadata": {},
   "source": [
    "<!-- --- end solution of exercise --- -->\n",
    "\n",
    "<!-- --- end exercise --- -->"
   ]
  }
 ],
 "metadata": {},
 "nbformat": 4,
 "nbformat_minor": 2
}
